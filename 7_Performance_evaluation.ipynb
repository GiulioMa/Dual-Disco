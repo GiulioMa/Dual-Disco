{
 "cells": [
  {
   "cell_type": "code",
   "execution_count": 1,
   "id": "55ceda36",
   "metadata": {},
   "outputs": [],
   "source": [
    "import torch\n",
    "import random\n",
    "import torch.nn as nn\n",
    "import torch.optim as optim\n",
    "import torch.nn.functional as F\n",
    "\n",
    "class SignalClassifier(nn.Module):\n",
    "    def __init__(self, input_channels, filter_size, win_len):\n",
    "        super(SignalClassifier, self).__init__()\n",
    "\n",
    "        # Initial convolution layer with increased filters\n",
    "        self.conv1 = nn.Conv1d(in_channels=input_channels, out_channels=2, kernel_size=filter_size, padding='same')\n",
    "        self.bn1 = nn.BatchNorm1d(2)  # BatchNorm layer after the first conv layer\n",
    "        self.prelu1 = nn.PReLU()\n",
    "\n",
    "        # Branch 1: Convolution layers followed by output layer\n",
    "        self.branch1_layers = nn.ModuleList()\n",
    "        self.branch1_bns = nn.ModuleList()  # BatchNorm layers for branch 1\n",
    "        for i in range(2):\n",
    "            self.branch1_layers.append(nn.Conv1d(in_channels=2 if i == 0 else 8, out_channels=8, kernel_size=filter_size, padding='same'))\n",
    "            self.branch1_bns.append(nn.BatchNorm1d(8))\n",
    "        self.branch1_prelus = nn.ModuleList([nn.PReLU() for _ in range(2)])\n",
    "        self.out_branch1 = nn.Conv1d(in_channels=8, out_channels=8, kernel_size=filter_size, padding='same')\n",
    "        \n",
    "        self.fc1_branch1 = nn.Linear(8*win_len, 128)\n",
    "        self.fc2_branch1 = nn.Linear(128, 1)\n",
    "        \n",
    "        # Branch 2: Convolution layers followed by output layer\n",
    "        self.branch2_layers = nn.ModuleList()\n",
    "        self.branch2_bns = nn.ModuleList()  # BatchNorm layers for branch 2\n",
    "        for i in range(2):\n",
    "            self.branch2_layers.append(nn.Conv1d(in_channels=2 if i == 0 else 8, out_channels=8, kernel_size=filter_size, padding='same'))\n",
    "            self.branch2_bns.append(nn.BatchNorm1d(8))\n",
    "        self.branch2_prelus = nn.ModuleList([nn.PReLU() for _ in range(2)])\n",
    "        self.out_branch2 = nn.Conv1d(in_channels=8, out_channels=8, kernel_size=filter_size, padding='same')\n",
    "        \n",
    "        self.fc1_branch2 = nn.Linear(8*win_len, 128)\n",
    "        self.fc2_branch2 = nn.Linear(128, 1)\n",
    "\n",
    "    def forward(self, x):\n",
    "        x = self.prelu1(self.bn1(self.conv1(x)))  # Apply BatchNorm after the first conv layer\n",
    "\n",
    "        # Branch 1\n",
    "        x_branch1 = x\n",
    "        for layer, bn, prelu in zip(self.branch1_layers, self.branch1_bns, self.branch1_prelus):\n",
    "            x_branch1 = prelu(bn(layer(x_branch1)))  # Apply BatchNorm after each conv layer\n",
    "        x_branch1 = self.out_branch1(x_branch1)\n",
    "        x_branch1 = x_branch1.view(x_branch1.size(0), -1)  # Flatten the output\n",
    "        x_branch1 = F.relu(self.fc1_branch1(x_branch1))\n",
    "        out1 = self.fc2_branch1(x_branch1)\n",
    "\n",
    "        # Branch 2\n",
    "        x_branch2 = x\n",
    "        for layer, bn, prelu in zip(self.branch2_layers, self.branch2_bns, self.branch2_prelus):\n",
    "            x_branch2 = prelu(bn(layer(x_branch2)))  # Apply BatchNorm after each conv layer\n",
    "        x_branch2 = self.out_branch2(x_branch2)\n",
    "        x_branch2 = x_branch2.view(x_branch2.size(0), -1)  # Flatten the output\n",
    "        x_branch2 = F.relu(self.fc1_branch2(x_branch2))\n",
    "        out2 = self.fc2_branch2(x_branch2)\n",
    "\n",
    "        return out1, out2\n",
    "    \n",
    "class SignalClassifierSeq(nn.Module):\n",
    "    def __init__(self, input_channels, filter_size, win_len):\n",
    "        super(SignalClassifierSeq, self).__init__()\n",
    "\n",
    "        # Initial convolution layer\n",
    "        self.conv1 = nn.Conv1d(in_channels=input_channels, out_channels=2, kernel_size=filter_size, padding='same')\n",
    "        self.bn1 = nn.BatchNorm1d(2)  # BatchNorm layer after the first conv layer\n",
    "        self.prelu1 = nn.PReLU()\n",
    "\n",
    "        # Convolution layers followed by output layer\n",
    "        self.branch1_layers = nn.ModuleList()\n",
    "        self.branch1_bns = nn.ModuleList()  # BatchNorm layers for branch 1\n",
    "        for i in range(2):\n",
    "            self.branch1_layers.append(nn.Conv1d(in_channels=2 if i == 0 else 8, out_channels=8, kernel_size=filter_size, padding='same'))\n",
    "            self.branch1_bns.append(nn.BatchNorm1d(8))\n",
    "        self.branch1_prelus = nn.ModuleList([nn.PReLU() for _ in range(2)])\n",
    "        self.out_branch1 = nn.Conv1d(in_channels=8, out_channels=8, kernel_size=filter_size, padding='same')\n",
    "        \n",
    "        self.fc1_branch1 = nn.Linear(8*win_len, 128)\n",
    "        self.fc2_branch1 = nn.Linear(128, 1)\n",
    "        \n",
    "\n",
    "    def forward(self, x):\n",
    "        x_branch1 = self.prelu1(self.bn1(self.conv1(x)))  # Apply BatchNorm after the first conv layer\n",
    "\n",
    "        for layer, bn, prelu in zip(self.branch1_layers, self.branch1_bns, self.branch1_prelus):\n",
    "            x_branch1 = prelu(bn(layer(x_branch1)))  # Apply BatchNorm after each conv layer\n",
    "        x_branch1 = self.out_branch1(x_branch1)\n",
    "        x_branch1 = x_branch1.view(x_branch1.size(0), -1)  # Flatten the output\n",
    "        x_branch1 = F.relu(self.fc1_branch1(x_branch1))\n",
    "        out1 = self.fc2_branch1(x_branch1)\n",
    "\n",
    "        return out1\n",
    "\n"
   ]
  },
  {
   "cell_type": "code",
   "execution_count": 2,
   "id": "bf8cf127",
   "metadata": {},
   "outputs": [],
   "source": [
    "# Load the data\n",
    "test_database_sim = torch.load('./Data/test_classification_short')\n",
    "test_database_seq = torch.load('./Data/test_classification_short_seq')\n"
   ]
  },
  {
   "cell_type": "code",
   "execution_count": 3,
   "id": "3362badb",
   "metadata": {},
   "outputs": [],
   "source": [
    "test_names_sim = test_database_sim['file_names']\n",
    "test_names_seq = test_database_seq['file_names']\n",
    "\n",
    "\n",
    "test_modes_sim = test_database_sim['mode_descriptions']\n",
    "test_modes_seq = test_database_seq['mode_descriptions']"
   ]
  },
  {
   "cell_type": "code",
   "execution_count": 4,
   "id": "7ecdd5ae",
   "metadata": {},
   "outputs": [
    {
     "data": {
      "text/plain": [
       "(('Conduction2', 'Conduction2'), ('Conduction2', 'Conduction2'))"
      ]
     },
     "execution_count": 4,
     "metadata": {},
     "output_type": "execute_result"
    }
   ],
   "source": [
    "test_modes_sim[0], test_modes_seq[0]"
   ]
  },
  {
   "cell_type": "code",
   "execution_count": 5,
   "id": "b075faaa",
   "metadata": {},
   "outputs": [],
   "source": [
    "def mode_to_int(mode):\n",
    "    return 0 if 'Conduction' in mode else 1\n",
    "\n",
    "test_modes_int_sim = [(mode_to_int(mode0), mode_to_int(mode1)) for mode0, mode1 in test_modes_sim]\n",
    "test_modes_int_seq = [(mode_to_int(mode0), mode_to_int(mode1)) for mode0, mode1 in test_modes_seq]\n"
   ]
  },
  {
   "cell_type": "code",
   "execution_count": 6,
   "id": "0e3fb704",
   "metadata": {},
   "outputs": [],
   "source": [
    "test_data_sim = test_database_sim['sim_tensor']\n",
    "test_data_seq = test_database_seq['seq_tensor']"
   ]
  },
  {
   "cell_type": "code",
   "execution_count": 7,
   "id": "04146f1e",
   "metadata": {},
   "outputs": [
    {
     "data": {
      "text/plain": [
       "(torch.Size([4500, 3, 5000]), torch.Size([4500, 2, 3, 5000]))"
      ]
     },
     "execution_count": 7,
     "metadata": {},
     "output_type": "execute_result"
    }
   ],
   "source": [
    "test_data_sim.shape, test_data_seq.shape"
   ]
  },
  {
   "cell_type": "code",
   "execution_count": 8,
   "id": "f8da858a-a21d-4d6f-8d1b-f8b4b5eb19b4",
   "metadata": {},
   "outputs": [
    {
     "data": {
      "text/plain": [
       "<torch._C.Generator at 0x7f0dd113ed30>"
      ]
     },
     "execution_count": 8,
     "metadata": {},
     "output_type": "execute_result"
    }
   ],
   "source": [
    "import numpy as np\n",
    "# Set random seed for reproducibility\n",
    "random_seed = 42\n",
    "random.seed(random_seed)\n",
    "np.random.seed(random_seed)\n",
    "torch.manual_seed(random_seed)\n"
   ]
  },
  {
   "cell_type": "code",
   "execution_count": 9,
   "id": "9ba97f51",
   "metadata": {},
   "outputs": [],
   "source": [
    "from torch.utils.data import Dataset, DataLoader\n",
    "\n",
    "class CustomDataset(Dataset):\n",
    "    def __init__(self, data, modes, names):\n",
    "        \"\"\"\n",
    "        Args:\n",
    "            data (Tensor): A tensor containing the data.\n",
    "            modes (list): A list of mode descriptions for each sample.\n",
    "            names (list): A list of file names for each sample.\n",
    "        \"\"\"\n",
    "        self.data = data\n",
    "        self.modes = modes\n",
    "        self.names = names\n",
    "\n",
    "    def __len__(self):\n",
    "        return len(self.data)\n",
    "\n",
    "    def __getitem__(self, idx):\n",
    "        sample = self.data[idx]\n",
    "        mode = self.modes[idx]\n",
    "        name = self.names[idx]\n",
    "        return sample, mode, name\n"
   ]
  },
  {
   "cell_type": "code",
   "execution_count": 10,
   "id": "88d5f367",
   "metadata": {},
   "outputs": [],
   "source": [
    "# Params that do not change\n",
    "input_channels = 3  \n",
    "win_len = test_data_sim.shape[-1]  "
   ]
  },
  {
   "cell_type": "code",
   "execution_count": 11,
   "id": "530d9a11",
   "metadata": {},
   "outputs": [],
   "source": [
    "device = torch.device(\"cuda:0\" if torch.cuda.is_available() else \"cpu\")\n"
   ]
  },
  {
   "cell_type": "code",
   "execution_count": 12,
   "id": "ce106ccd",
   "metadata": {},
   "outputs": [],
   "source": [
    "# Define the loss function\n",
    "loss_function = nn.BCEWithLogitsLoss()\n"
   ]
  },
  {
   "cell_type": "code",
   "execution_count": 13,
   "id": "6908733e",
   "metadata": {},
   "outputs": [],
   "source": [
    "import pandas as pd\n",
    "import torch\n",
    "from sklearn.metrics import precision_recall_fscore_support, confusion_matrix\n",
    "import matplotlib.pyplot as plt\n",
    "import seaborn as sns\n",
    "import numpy as np\n",
    "\n",
    "def plot_confusion_matrix_with_percentages(targets, preds, title, target_names=['Negative', 'Positive']):\n",
    "    cm = confusion_matrix(targets.numpy(), preds.numpy())\n",
    "    # Normalise\n",
    "    cmn = cm.astype('float') / cm.sum(axis=1)[:, np.newaxis]\n",
    "    fig, ax = plt.subplots(figsize=(10, 10))\n",
    "    sns.heatmap(cmn*100, annot=True, fmt='.2f', xticklabels=target_names, yticklabels=target_names, ax=ax)\n",
    "    plt.ylabel('Actual')\n",
    "    plt.xlabel('Predicted')\n",
    "    plt.title(title)\n",
    "    plt.show(block=False)\n",
    "\n",
    "def evaluate_model(model, device, test_loader, loss_function, eval_type):\n",
    "    model.eval()\n",
    "    total_loss = 0\n",
    "    all_targets, all_preds = [], []\n",
    "    \n",
    "    with torch.no_grad():\n",
    "        for data, (target1, target2), _ in test_loader:\n",
    "            data = data.to(device)\n",
    "            target1, target2 = target1.to(device).float(), target2.to(device).float()\n",
    "            \n",
    "            if eval_type == \"sim\":\n",
    "                outputs = model(data)\n",
    "            elif eval_type == \"seq\":\n",
    "                data1, data2 = data[:, 0, :, :], data[:, 1, :, :]\n",
    "                output1 = model(data1)\n",
    "                output2 = model(data2)\n",
    "                outputs = (output1, output2)\n",
    "            else:\n",
    "                raise ValueError(\"Invalid eval_type specified\")\n",
    "            \n",
    "            for i, output in enumerate(outputs):\n",
    "                target = target1 if i == 0 else target2\n",
    "                loss = loss_function(output.squeeze(), target)\n",
    "                total_loss += loss.item()\n",
    "                \n",
    "                sig_output = torch.sigmoid(output).squeeze()\n",
    "                pred = sig_output > 0.5\n",
    "                \n",
    "                all_targets.append(target.cpu())\n",
    "                all_preds.append(pred.float().cpu())\n",
    "\n",
    "    all_targets = torch.cat(all_targets)\n",
    "    all_preds = torch.cat(all_preds)\n",
    "    \n",
    "    precision, recall, f1_score, _ = precision_recall_fscore_support(all_targets, all_preds, average='binary')\n",
    "    accuracy = all_preds.eq(all_targets.view_as(all_preds)).sum().item() / len(all_targets)\n",
    "    \n",
    "    metrics_df = pd.DataFrame({\n",
    "        'Precision': [precision*100],\n",
    "        'Recall': [recall*100],\n",
    "        'F1 Score': [f1_score*100],\n",
    "        'Accuracy': [accuracy*100]\n",
    "    })\n",
    "    \n",
    "    # Print metrics\n",
    "    display(metrics_df.style.hide(axis='index'))\n",
    "    \n",
    "    # Plot confusion matrix with percentages\n",
    "    plot_confusion_matrix_with_percentages(all_targets, all_preds, f\"Predictions ({eval_type})\", ['Negative', 'Positive'])\n",
    "    \n",
    "    return metrics_df\n"
   ]
  },
  {
   "cell_type": "code",
   "execution_count": 14,
   "id": "4a19bdd3",
   "metadata": {},
   "outputs": [],
   "source": [
    "model_sim_paths = ['./best_model.pth', \n",
    "                   './best_model_no_resonant.pth', \n",
    "                   './best_model_only_front.pth', \n",
    "                   './best_model_only_rear.pth', \n",
    "                   './best_model_only_resonant.pth']\n",
    "model_seq_paths = ['./best_model_seq.pth', \n",
    "                   './best_model_seq_no_resonant.pth', \n",
    "                   './best_model_seq_only_front.pth', \n",
    "                   './best_model_seq_only_rear.pth', \n",
    "                   './best_model_seq_only_resonant.pth']"
   ]
  },
  {
   "cell_type": "code",
   "execution_count": 15,
   "id": "ef7d77f3",
   "metadata": {},
   "outputs": [
    {
     "data": {
      "text/plain": [
       "(torch.Size([4500, 3, 5000]), torch.Size([4500, 2, 3, 5000]))"
      ]
     },
     "execution_count": 15,
     "metadata": {},
     "output_type": "execute_result"
    }
   ],
   "source": [
    "test_data_sim.shape, test_data_seq.shape"
   ]
  },
  {
   "cell_type": "code",
   "execution_count": 16,
   "id": "0f13e229",
   "metadata": {
    "scrolled": false
   },
   "outputs": [
    {
     "name": "stdout",
     "output_type": "stream",
     "text": [
      "Evaluating: All Sensors\n"
     ]
    },
    {
     "data": {
      "text/html": [
       "<style type=\"text/css\">\n",
       "</style>\n",
       "<table id=\"T_e596e\">\n",
       "  <thead>\n",
       "    <tr>\n",
       "      <th id=\"T_e596e_level0_col0\" class=\"col_heading level0 col0\" >Precision</th>\n",
       "      <th id=\"T_e596e_level0_col1\" class=\"col_heading level0 col1\" >Recall</th>\n",
       "      <th id=\"T_e596e_level0_col2\" class=\"col_heading level0 col2\" >F1 Score</th>\n",
       "      <th id=\"T_e596e_level0_col3\" class=\"col_heading level0 col3\" >Accuracy</th>\n",
       "    </tr>\n",
       "  </thead>\n",
       "  <tbody>\n",
       "    <tr>\n",
       "      <td id=\"T_e596e_row0_col0\" class=\"data row0 col0\" >97.867514</td>\n",
       "      <td id=\"T_e596e_row0_col1\" class=\"data row0 col1\" >95.866667</td>\n",
       "      <td id=\"T_e596e_row0_col2\" class=\"data row0 col2\" >96.856758</td>\n",
       "      <td id=\"T_e596e_row0_col3\" class=\"data row0 col3\" >96.888889</td>\n",
       "    </tr>\n",
       "  </tbody>\n",
       "</table>\n"
      ],
      "text/plain": [
       "<pandas.io.formats.style.Styler at 0x7f0bdfce9270>"
      ]
     },
     "metadata": {},
     "output_type": "display_data"
    },
    {
     "data": {
      "image/png": "[encoded data removed]",
      "text/plain": [
       "<Figure size 720x720 with 2 Axes>"
      ]
     },
     "metadata": {
      "needs_background": "light"
     },
     "output_type": "display_data"
    },
    {
     "data": {
      "text/html": [
       "<style type=\"text/css\">\n",
       "</style>\n",
       "<table id=\"T_85b18\">\n",
       "  <thead>\n",
       "    <tr>\n",
       "      <th id=\"T_85b18_level0_col0\" class=\"col_heading level0 col0\" >Precision</th>\n",
       "      <th id=\"T_85b18_level0_col1\" class=\"col_heading level0 col1\" >Recall</th>\n",
       "      <th id=\"T_85b18_level0_col2\" class=\"col_heading level0 col2\" >F1 Score</th>\n",
       "      <th id=\"T_85b18_level0_col3\" class=\"col_heading level0 col3\" >Accuracy</th>\n",
       "    </tr>\n",
       "  </thead>\n",
       "  <tbody>\n",
       "    <tr>\n",
       "      <td id=\"T_85b18_row0_col0\" class=\"data row0 col0\" >99.258260</td>\n",
       "      <td id=\"T_85b18_row0_col1\" class=\"data row0 col1\" >98.133333</td>\n",
       "      <td id=\"T_85b18_row0_col2\" class=\"data row0 col2\" >98.692591</td>\n",
       "      <td id=\"T_85b18_row0_col3\" class=\"data row0 col3\" >98.700000</td>\n",
       "    </tr>\n",
       "  </tbody>\n",
       "</table>\n"
      ],
      "text/plain": [
       "<pandas.io.formats.style.Styler at 0x7f0bdd56d720>"
      ]
     },
     "metadata": {},
     "output_type": "display_data"
    },
    {
     "data": {
      "image/png": "[encoded data removed]",
      "text/plain": [
       "<Figure size 720x720 with 2 Axes>"
      ]
     },
     "metadata": {
      "needs_background": "light"
     },
     "output_type": "display_data"
    },
    {
     "name": "stdout",
     "output_type": "stream",
     "text": [
      "Evaluating: No Resonant\n"
     ]
    },
    {
     "data": {
      "text/html": [
       "<style type=\"text/css\">\n",
       "</style>\n",
       "<table id=\"T_3cc2d\">\n",
       "  <thead>\n",
       "    <tr>\n",
       "      <th id=\"T_3cc2d_level0_col0\" class=\"col_heading level0 col0\" >Precision</th>\n",
       "      <th id=\"T_3cc2d_level0_col1\" class=\"col_heading level0 col1\" >Recall</th>\n",
       "      <th id=\"T_3cc2d_level0_col2\" class=\"col_heading level0 col2\" >F1 Score</th>\n",
       "      <th id=\"T_3cc2d_level0_col3\" class=\"col_heading level0 col3\" >Accuracy</th>\n",
       "    </tr>\n",
       "  </thead>\n",
       "  <tbody>\n",
       "    <tr>\n",
       "      <td id=\"T_3cc2d_row0_col0\" class=\"data row0 col0\" >93.866899</td>\n",
       "      <td id=\"T_3cc2d_row0_col1\" class=\"data row0 col1\" >95.911111</td>\n",
       "      <td id=\"T_3cc2d_row0_col2\" class=\"data row0 col2\" >94.877995</td>\n",
       "      <td id=\"T_3cc2d_row0_col3\" class=\"data row0 col3\" >94.822222</td>\n",
       "    </tr>\n",
       "  </tbody>\n",
       "</table>\n"
      ],
      "text/plain": [
       "<pandas.io.formats.style.Styler at 0x7f0bdfce90c0>"
      ]
     },
     "metadata": {},
     "output_type": "display_data"
    },
    {
     "data": {
      "image/png": "[encoded data removed]",
      "text/plain": [
       "<Figure size 720x720 with 2 Axes>"
      ]
     },
     "metadata": {
      "needs_background": "light"
     },
     "output_type": "display_data"
    },
    {
     "data": {
      "text/html": [
       "<style type=\"text/css\">\n",
       "</style>\n",
       "<table id=\"T_e8ac5\">\n",
       "  <thead>\n",
       "    <tr>\n",
       "      <th id=\"T_e8ac5_level0_col0\" class=\"col_heading level0 col0\" >Precision</th>\n",
       "      <th id=\"T_e8ac5_level0_col1\" class=\"col_heading level0 col1\" >Recall</th>\n",
       "      <th id=\"T_e8ac5_level0_col2\" class=\"col_heading level0 col2\" >F1 Score</th>\n",
       "      <th id=\"T_e8ac5_level0_col3\" class=\"col_heading level0 col3\" >Accuracy</th>\n",
       "    </tr>\n",
       "  </thead>\n",
       "  <tbody>\n",
       "    <tr>\n",
       "      <td id=\"T_e8ac5_row0_col0\" class=\"data row0 col0\" >98.297214</td>\n",
       "      <td id=\"T_e8ac5_row0_col1\" class=\"data row0 col1\" >98.777778</td>\n",
       "      <td id=\"T_e8ac5_row0_col2\" class=\"data row0 col2\" >98.536910</td>\n",
       "      <td id=\"T_e8ac5_row0_col3\" class=\"data row0 col3\" >98.533333</td>\n",
       "    </tr>\n",
       "  </tbody>\n",
       "</table>\n"
      ],
      "text/plain": [
       "<pandas.io.formats.style.Styler at 0x7f0bdd3de9b0>"
      ]
     },
     "metadata": {},
     "output_type": "display_data"
    },
    {
     "data": {
      "image/png": "[encoded data removed]",
      "text/plain": [
       "<Figure size 720x720 with 2 Axes>"
      ]
     },
     "metadata": {
      "needs_background": "light"
     },
     "output_type": "display_data"
    },
    {
     "name": "stdout",
     "output_type": "stream",
     "text": [
      "Evaluating: Only Front\n"
     ]
    },
    {
     "data": {
      "text/html": [
       "<style type=\"text/css\">\n",
       "</style>\n",
       "<table id=\"T_387c9\">\n",
       "  <thead>\n",
       "    <tr>\n",
       "      <th id=\"T_387c9_level0_col0\" class=\"col_heading level0 col0\" >Precision</th>\n",
       "      <th id=\"T_387c9_level0_col1\" class=\"col_heading level0 col1\" >Recall</th>\n",
       "      <th id=\"T_387c9_level0_col2\" class=\"col_heading level0 col2\" >F1 Score</th>\n",
       "      <th id=\"T_387c9_level0_col3\" class=\"col_heading level0 col3\" >Accuracy</th>\n",
       "    </tr>\n",
       "  </thead>\n",
       "  <tbody>\n",
       "    <tr>\n",
       "      <td id=\"T_387c9_row0_col0\" class=\"data row0 col0\" >91.652634</td>\n",
       "      <td id=\"T_387c9_row0_col1\" class=\"data row0 col1\" >84.666667</td>\n",
       "      <td id=\"T_387c9_row0_col2\" class=\"data row0 col2\" >88.021254</td>\n",
       "      <td id=\"T_387c9_row0_col3\" class=\"data row0 col3\" >88.477778</td>\n",
       "    </tr>\n",
       "  </tbody>\n",
       "</table>\n"
      ],
      "text/plain": [
       "<pandas.io.formats.style.Styler at 0x7f0bdd3aded0>"
      ]
     },
     "metadata": {},
     "output_type": "display_data"
    },
    {
     "data": {
      "image/png": "[encoded data removed]",
      "text/plain": [
       "<Figure size 720x720 with 2 Axes>"
      ]
     },
     "metadata": {
      "needs_background": "light"
     },
     "output_type": "display_data"
    },
    {
     "data": {
      "text/html": [
       "<style type=\"text/css\">\n",
       "</style>\n",
       "<table id=\"T_3a829\">\n",
       "  <thead>\n",
       "    <tr>\n",
       "      <th id=\"T_3a829_level0_col0\" class=\"col_heading level0 col0\" >Precision</th>\n",
       "      <th id=\"T_3a829_level0_col1\" class=\"col_heading level0 col1\" >Recall</th>\n",
       "      <th id=\"T_3a829_level0_col2\" class=\"col_heading level0 col2\" >F1 Score</th>\n",
       "      <th id=\"T_3a829_level0_col3\" class=\"col_heading level0 col3\" >Accuracy</th>\n",
       "    </tr>\n",
       "  </thead>\n",
       "  <tbody>\n",
       "    <tr>\n",
       "      <td id=\"T_3a829_row0_col0\" class=\"data row0 col0\" >99.843959</td>\n",
       "      <td id=\"T_3a829_row0_col1\" class=\"data row0 col1\" >99.533333</td>\n",
       "      <td id=\"T_3a829_row0_col2\" class=\"data row0 col2\" >99.688404</td>\n",
       "      <td id=\"T_3a829_row0_col3\" class=\"data row0 col3\" >99.688889</td>\n",
       "    </tr>\n",
       "  </tbody>\n",
       "</table>\n"
      ],
      "text/plain": [
       "<pandas.io.formats.style.Styler at 0x7f0bdd4f7940>"
      ]
     },
     "metadata": {},
     "output_type": "display_data"
    },
    {
     "data": {
      "image/png": "[encoded data removed]",
      "text/plain": [
       "<Figure size 720x720 with 2 Axes>"
      ]
     },
     "metadata": {
      "needs_background": "light"
     },
     "output_type": "display_data"
    },
    {
     "name": "stdout",
     "output_type": "stream",
     "text": [
      "Evaluating: Only Rear\n"
     ]
    },
    {
     "data": {
      "text/html": [
       "<style type=\"text/css\">\n",
       "</style>\n",
       "<table id=\"T_fcc07\">\n",
       "  <thead>\n",
       "    <tr>\n",
       "      <th id=\"T_fcc07_level0_col0\" class=\"col_heading level0 col0\" >Precision</th>\n",
       "      <th id=\"T_fcc07_level0_col1\" class=\"col_heading level0 col1\" >Recall</th>\n",
       "      <th id=\"T_fcc07_level0_col2\" class=\"col_heading level0 col2\" >F1 Score</th>\n",
       "      <th id=\"T_fcc07_level0_col3\" class=\"col_heading level0 col3\" >Accuracy</th>\n",
       "    </tr>\n",
       "  </thead>\n",
       "  <tbody>\n",
       "    <tr>\n",
       "      <td id=\"T_fcc07_row0_col0\" class=\"data row0 col0\" >94.786626</td>\n",
       "      <td id=\"T_fcc07_row0_col1\" class=\"data row0 col1\" >95.755556</td>\n",
       "      <td id=\"T_fcc07_row0_col2\" class=\"data row0 col2\" >95.268627</td>\n",
       "      <td id=\"T_fcc07_row0_col3\" class=\"data row0 col3\" >95.244444</td>\n",
       "    </tr>\n",
       "  </tbody>\n",
       "</table>\n"
      ],
      "text/plain": [
       "<pandas.io.formats.style.Styler at 0x7f0bdd3ae830>"
      ]
     },
     "metadata": {},
     "output_type": "display_data"
    },
    {
     "data": {
      "image/png": "[encoded data removed]",
      "text/plain": [
       "<Figure size 720x720 with 2 Axes>"
      ]
     },
     "metadata": {
      "needs_background": "light"
     },
     "output_type": "display_data"
    },
    {
     "data": {
      "text/html": [
       "<style type=\"text/css\">\n",
       "</style>\n",
       "<table id=\"T_140be\">\n",
       "  <thead>\n",
       "    <tr>\n",
       "      <th id=\"T_140be_level0_col0\" class=\"col_heading level0 col0\" >Precision</th>\n",
       "      <th id=\"T_140be_level0_col1\" class=\"col_heading level0 col1\" >Recall</th>\n",
       "      <th id=\"T_140be_level0_col2\" class=\"col_heading level0 col2\" >F1 Score</th>\n",
       "      <th id=\"T_140be_level0_col3\" class=\"col_heading level0 col3\" >Accuracy</th>\n",
       "    </tr>\n",
       "  </thead>\n",
       "  <tbody>\n",
       "    <tr>\n",
       "      <td id=\"T_140be_row0_col0\" class=\"data row0 col0\" >95.795730</td>\n",
       "      <td id=\"T_140be_row0_col1\" class=\"data row0 col1\" >96.711111</td>\n",
       "      <td id=\"T_140be_row0_col2\" class=\"data row0 col2\" >96.251244</td>\n",
       "      <td id=\"T_140be_row0_col3\" class=\"data row0 col3\" >96.233333</td>\n",
       "    </tr>\n",
       "  </tbody>\n",
       "</table>\n"
      ],
      "text/plain": [
       "<pandas.io.formats.style.Styler at 0x7f0bdd5b9690>"
      ]
     },
     "metadata": {},
     "output_type": "display_data"
    },
    {
     "data": {
      "image/png": "[encoded data removed]",
      "text/plain": [
       "<Figure size 720x720 with 2 Axes>"
      ]
     },
     "metadata": {
      "needs_background": "light"
     },
     "output_type": "display_data"
    },
    {
     "name": "stdout",
     "output_type": "stream",
     "text": [
      "Evaluating: Only Resonant\n"
     ]
    },
    {
     "data": {
      "text/html": [
       "<style type=\"text/css\">\n",
       "</style>\n",
       "<table id=\"T_97992\">\n",
       "  <thead>\n",
       "    <tr>\n",
       "      <th id=\"T_97992_level0_col0\" class=\"col_heading level0 col0\" >Precision</th>\n",
       "      <th id=\"T_97992_level0_col1\" class=\"col_heading level0 col1\" >Recall</th>\n",
       "      <th id=\"T_97992_level0_col2\" class=\"col_heading level0 col2\" >F1 Score</th>\n",
       "      <th id=\"T_97992_level0_col3\" class=\"col_heading level0 col3\" >Accuracy</th>\n",
       "    </tr>\n",
       "  </thead>\n",
       "  <tbody>\n",
       "    <tr>\n",
       "      <td id=\"T_97992_row0_col0\" class=\"data row0 col0\" >84.569224</td>\n",
       "      <td id=\"T_97992_row0_col1\" class=\"data row0 col1\" >87.688889</td>\n",
       "      <td id=\"T_97992_row0_col2\" class=\"data row0 col2\" >86.100807</td>\n",
       "      <td id=\"T_97992_row0_col3\" class=\"data row0 col3\" >85.844444</td>\n",
       "    </tr>\n",
       "  </tbody>\n",
       "</table>\n"
      ],
      "text/plain": [
       "<pandas.io.formats.style.Styler at 0x7f0bdd3ae530>"
      ]
     },
     "metadata": {},
     "output_type": "display_data"
    },
    {
     "data": {
      "image/png": "[encoded data removed]",
      "text/plain": [
       "<Figure size 720x720 with 2 Axes>"
      ]
     },
     "metadata": {
      "needs_background": "light"
     },
     "output_type": "display_data"
    },
    {
     "data": {
      "text/html": [
       "<style type=\"text/css\">\n",
       "</style>\n",
       "<table id=\"T_41394\">\n",
       "  <thead>\n",
       "    <tr>\n",
       "      <th id=\"T_41394_level0_col0\" class=\"col_heading level0 col0\" >Precision</th>\n",
       "      <th id=\"T_41394_level0_col1\" class=\"col_heading level0 col1\" >Recall</th>\n",
       "      <th id=\"T_41394_level0_col2\" class=\"col_heading level0 col2\" >F1 Score</th>\n",
       "      <th id=\"T_41394_level0_col3\" class=\"col_heading level0 col3\" >Accuracy</th>\n",
       "    </tr>\n",
       "  </thead>\n",
       "  <tbody>\n",
       "    <tr>\n",
       "      <td id=\"T_41394_row0_col0\" class=\"data row0 col0\" >99.620366</td>\n",
       "      <td id=\"T_41394_row0_col1\" class=\"data row0 col1\" >99.133333</td>\n",
       "      <td id=\"T_41394_row0_col2\" class=\"data row0 col2\" >99.376253</td>\n",
       "      <td id=\"T_41394_row0_col3\" class=\"data row0 col3\" >99.377778</td>\n",
       "    </tr>\n",
       "  </tbody>\n",
       "</table>\n"
      ],
      "text/plain": [
       "<pandas.io.formats.style.Styler at 0x7f0bdd3f9a20>"
      ]
     },
     "metadata": {},
     "output_type": "display_data"
    },
    {
     "data": {
      "image/png": "[encoded data removed]",
      "text/plain": [
       "<Figure size 720x720 with 2 Axes>"
      ]
     },
     "metadata": {
      "needs_background": "light"
     },
     "output_type": "display_data"
    },
    {
     "data": {
      "text/html": [
       "<style type=\"text/css\">\n",
       "</style>\n",
       "<table id=\"T_93098\">\n",
       "  <thead>\n",
       "    <tr>\n",
       "      <th id=\"T_93098_level0_col0\" class=\"col_heading level0 col0\" >Configuration</th>\n",
       "      <th id=\"T_93098_level0_col1\" class=\"col_heading level0 col1\" >Accuracy</th>\n",
       "      <th id=\"T_93098_level0_col2\" class=\"col_heading level0 col2\" >Precision</th>\n",
       "      <th id=\"T_93098_level0_col3\" class=\"col_heading level0 col3\" >Recall</th>\n",
       "      <th id=\"T_93098_level0_col4\" class=\"col_heading level0 col4\" >F1-Score</th>\n",
       "      <th id=\"T_93098_level0_col5\" class=\"col_heading level0 col5\" >Performance Reduction (%)</th>\n",
       "    </tr>\n",
       "  </thead>\n",
       "  <tbody>\n",
       "    <tr>\n",
       "      <td id=\"T_93098_row0_col0\" class=\"data row0 col0\" >All Sensors</td>\n",
       "      <td id=\"T_93098_row0_col1\" class=\"data row0 col1\" >96.89 (98.70)</td>\n",
       "      <td id=\"T_93098_row0_col2\" class=\"data row0 col2\" >97.87 (99.26)</td>\n",
       "      <td id=\"T_93098_row0_col3\" class=\"data row0 col3\" >95.87 (98.13)</td>\n",
       "      <td id=\"T_93098_row0_col4\" class=\"data row0 col4\" >96.86 (98.69)</td>\n",
       "      <td id=\"T_93098_row0_col5\" class=\"data row0 col5\" >1.86</td>\n",
       "    </tr>\n",
       "    <tr>\n",
       "      <td id=\"T_93098_row1_col0\" class=\"data row1 col0\" >No Resonant</td>\n",
       "      <td id=\"T_93098_row1_col1\" class=\"data row1 col1\" >94.82 (98.53)</td>\n",
       "      <td id=\"T_93098_row1_col2\" class=\"data row1 col2\" >93.87 (98.30)</td>\n",
       "      <td id=\"T_93098_row1_col3\" class=\"data row1 col3\" >95.91 (98.78)</td>\n",
       "      <td id=\"T_93098_row1_col4\" class=\"data row1 col4\" >94.88 (98.54)</td>\n",
       "      <td id=\"T_93098_row1_col5\" class=\"data row1 col5\" >3.71</td>\n",
       "    </tr>\n",
       "    <tr>\n",
       "      <td id=\"T_93098_row2_col0\" class=\"data row2 col0\" >Only Front</td>\n",
       "      <td id=\"T_93098_row2_col1\" class=\"data row2 col1\" >88.48 (99.69)</td>\n",
       "      <td id=\"T_93098_row2_col2\" class=\"data row2 col2\" >91.65 (99.84)</td>\n",
       "      <td id=\"T_93098_row2_col3\" class=\"data row2 col3\" >84.67 (99.53)</td>\n",
       "      <td id=\"T_93098_row2_col4\" class=\"data row2 col4\" >88.02 (99.69)</td>\n",
       "      <td id=\"T_93098_row2_col5\" class=\"data row2 col5\" >11.70</td>\n",
       "    </tr>\n",
       "    <tr>\n",
       "      <td id=\"T_93098_row3_col0\" class=\"data row3 col0\" >Only Rear</td>\n",
       "      <td id=\"T_93098_row3_col1\" class=\"data row3 col1\" >95.24 (96.23)</td>\n",
       "      <td id=\"T_93098_row3_col2\" class=\"data row3 col2\" >94.79 (95.80)</td>\n",
       "      <td id=\"T_93098_row3_col3\" class=\"data row3 col3\" >95.76 (96.71)</td>\n",
       "      <td id=\"T_93098_row3_col4\" class=\"data row3 col4\" >95.27 (96.25)</td>\n",
       "      <td id=\"T_93098_row3_col5\" class=\"data row3 col5\" >1.02</td>\n",
       "    </tr>\n",
       "    <tr>\n",
       "      <td id=\"T_93098_row4_col0\" class=\"data row4 col0\" >Only Resonant</td>\n",
       "      <td id=\"T_93098_row4_col1\" class=\"data row4 col1\" >85.84 (99.38)</td>\n",
       "      <td id=\"T_93098_row4_col2\" class=\"data row4 col2\" >84.57 (99.62)</td>\n",
       "      <td id=\"T_93098_row4_col3\" class=\"data row4 col3\" >87.69 (99.13)</td>\n",
       "      <td id=\"T_93098_row4_col4\" class=\"data row4 col4\" >86.10 (99.38)</td>\n",
       "      <td id=\"T_93098_row4_col5\" class=\"data row4 col5\" >13.36</td>\n",
       "    </tr>\n",
       "  </tbody>\n",
       "</table>\n"
      ],
      "text/plain": [
       "<pandas.io.formats.style.Styler at 0x7f0bdfce85b0>"
      ]
     },
     "metadata": {},
     "output_type": "display_data"
    }
   ],
   "source": [
    "all_metrics = []  # Initialize an empty list to collect metrics\n",
    "\n",
    "# Loop through pairs of model paths for simultaneous and sequential models\n",
    "for model_sim_path, model_seq_path in zip(model_sim_paths, model_seq_paths):\n",
    "    try:\n",
    "        # Attempt to load the saved model state dicts\n",
    "        model_sim_data = torch.load(model_sim_path)\n",
    "        model_seq_data = torch.load(model_seq_path)\n",
    "    except FileNotFoundError as e:\n",
    "        # If model files are not found, report the error and skip to the next iteration\n",
    "        print(f\"Error loading models: {e}. Skipping...\")\n",
    "        continue\n",
    "    \n",
    "    # Adjust the test data based on the model type indicated by the file name\n",
    "    # This allows for testing different model configurations\n",
    "    configuration = \"All Sensors\"\n",
    "    if 'no_resonant' in model_sim_path:\n",
    "        configuration = \"No Resonant\"\n",
    "        # Narrow down the channels to exclude resonant data if specified\n",
    "        test_data_sim_a = test_data_sim.narrow(1, 0, 2)\n",
    "        test_data_seq_a = test_data_seq.narrow(2, 0, 2)\n",
    "    elif 'only_front' in model_sim_path:\n",
    "        configuration = \"Only Front\"\n",
    "        # Narrow down to only front sensor data if specified\n",
    "        test_data_sim_a = test_data_sim.narrow(1, 0, 1)\n",
    "        test_data_seq_a = test_data_seq.narrow(2, 0, 1)   \n",
    "    elif 'only_rear' in model_sim_path:\n",
    "        configuration = \"Only Rear\"\n",
    "        # Narrow down to only rear sensor data if specified\n",
    "        test_data_sim_a = test_data_sim.narrow(1, 1, 1)\n",
    "        test_data_seq_a = test_data_seq.narrow(2, 1, 1) \n",
    "    elif 'only_resonant' in model_sim_path:\n",
    "        configuration = \"Only Resonant\"\n",
    "        # Narrow down to only resonant data if specified\n",
    "        test_data_sim_a = test_data_sim.narrow(1, 2, 1)\n",
    "        test_data_seq_a = test_data_seq.narrow(2, 2, 1)    \n",
    "    else: \n",
    "        # Use the full dataset if no specific configuration is specified\n",
    "        test_data_sim_a = test_data_sim\n",
    "        test_data_seq_a = test_data_seq\n",
    "    print(f\"Evaluating: {configuration}\")\n",
    "        \n",
    "    # Create dataset instances with the adjusted data\n",
    "    test_dataset_sim = CustomDataset(test_data_sim_a, test_modes_int_sim, test_names_sim)\n",
    "    test_dataset_seq = CustomDataset(test_data_seq_a, test_modes_int_seq, test_names_seq)\n",
    "\n",
    "    # Define batch size for data loading\n",
    "    batch_size = 64\n",
    "    # Create DataLoader instances for batched data processing\n",
    "    test_loader_sim = DataLoader(test_dataset_sim, batch_size=batch_size, shuffle=False)\n",
    "    test_loader_seq = DataLoader(test_dataset_seq, batch_size=batch_size, shuffle=False)\n",
    "    \n",
    "    # Extract the filter size used in the best models from the saved state dicts\n",
    "    best_filter_size_sim = model_sim_data['conv1.weight'].shape[-1]\n",
    "    best_filter_size_seq = model_seq_data['conv1.weight'].shape[-1]\n",
    "\n",
    "    # Initialize the models with the determined best filter size and other relevant configurations\n",
    "    model_sim = SignalClassifier(input_channels=test_data_sim_a.shape[1], filter_size=best_filter_size_sim, win_len=win_len).to(device)\n",
    "    model_seq = SignalClassifierSeq(input_channels=test_data_seq_a.shape[2], filter_size=best_filter_size_seq, win_len=win_len).to(device)\n",
    "\n",
    "    # Load the saved state dicts into the respective models\n",
    "    model_sim.load_state_dict(model_sim_data)\n",
    "    model_seq.load_state_dict(model_seq_data)\n",
    "\n",
    "    # Set the models to evaluation mode\n",
    "    model_sim.eval()\n",
    "    model_seq.eval()\n",
    "\n",
    "    # Evaluate the models using the created DataLoader instances and custom evaluation function\n",
    "    metrics_sim = evaluate_model(model_sim, device, test_loader_sim, loss_function, eval_type=\"sim\")\n",
    "    metrics_seq = evaluate_model(model_seq, device, test_loader_seq, loss_function, eval_type=\"seq\")\n",
    "\n",
    "    # Compile metrics for DataFrame\n",
    "    f1_score_sim = metrics_sim['F1 Score'][0]  \n",
    "    f1_score_seq = metrics_seq['F1 Score'][0] \n",
    "    performance_reduction = (f1_score_seq - f1_score_sim)/f1_score_seq * 100 # Calculate the performance reduction\n",
    "\n",
    "    row = {\n",
    "        \"Configuration\": configuration,\n",
    "        \"Accuracy\": f\"{metrics_sim['Accuracy'][0]:.2f} ({metrics_seq['Accuracy'][0]:.2f})\",\n",
    "        \"Precision\": f\"{metrics_sim['Precision'][0]:.2f} ({metrics_seq['Precision'][0]:.2f})\",\n",
    "        \"Recall\": f\"{metrics_sim['Recall'][0]:.2f} ({metrics_seq['Recall'][0]:.2f})\",\n",
    "        \"F1-Score\": f\"{f1_score_sim:.2f} ({f1_score_seq:.2f})\",\n",
    "        \"Performance Reduction (%)\": f\"{performance_reduction:.2f}\"  # Add performance reduction to the row\n",
    "    }\n",
    "    all_metrics.append(row)\n",
    "\n",
    "    \n",
    "    torch.cuda.empty_cache()  # Clear memory between iterations\n",
    "\n",
    "# Convert collected metrics to DataFrame and display\n",
    "metrics_df = pd.DataFrame(all_metrics)\n",
    "display(metrics_df.style.hide(axis='index'))\n"
   ]
  },
  {
   "cell_type": "code",
   "execution_count": 17,
   "id": "190aca9b",
   "metadata": {},
   "outputs": [
    {
     "data": {
      "text/html": [
       "<style type=\"text/css\">\n",
       "</style>\n",
       "<table id=\"T_06d1d\">\n",
       "  <thead>\n",
       "    <tr>\n",
       "      <th id=\"T_06d1d_level0_col0\" class=\"col_heading level0 col0\" >Configuration</th>\n",
       "      <th id=\"T_06d1d_level0_col1\" class=\"col_heading level0 col1\" >Accuracy</th>\n",
       "      <th id=\"T_06d1d_level0_col2\" class=\"col_heading level0 col2\" >Precision</th>\n",
       "      <th id=\"T_06d1d_level0_col3\" class=\"col_heading level0 col3\" >Recall</th>\n",
       "      <th id=\"T_06d1d_level0_col4\" class=\"col_heading level0 col4\" >F1-Score</th>\n",
       "      <th id=\"T_06d1d_level0_col5\" class=\"col_heading level0 col5\" >Performance Reduction (%)</th>\n",
       "    </tr>\n",
       "  </thead>\n",
       "  <tbody>\n",
       "    <tr>\n",
       "      <td id=\"T_06d1d_row0_col0\" class=\"data row0 col0\" >All Sensors</td>\n",
       "      <td id=\"T_06d1d_row0_col1\" class=\"data row0 col1\" >96.89 (98.70)</td>\n",
       "      <td id=\"T_06d1d_row0_col2\" class=\"data row0 col2\" >97.87 (99.26)</td>\n",
       "      <td id=\"T_06d1d_row0_col3\" class=\"data row0 col3\" >95.87 (98.13)</td>\n",
       "      <td id=\"T_06d1d_row0_col4\" class=\"data row0 col4\" >96.86 (98.69)</td>\n",
       "      <td id=\"T_06d1d_row0_col5\" class=\"data row0 col5\" >1.86</td>\n",
       "    </tr>\n",
       "    <tr>\n",
       "      <td id=\"T_06d1d_row1_col0\" class=\"data row1 col0\" >No Resonant</td>\n",
       "      <td id=\"T_06d1d_row1_col1\" class=\"data row1 col1\" >94.82 (98.53)</td>\n",
       "      <td id=\"T_06d1d_row1_col2\" class=\"data row1 col2\" >93.87 (98.30)</td>\n",
       "      <td id=\"T_06d1d_row1_col3\" class=\"data row1 col3\" >95.91 (98.78)</td>\n",
       "      <td id=\"T_06d1d_row1_col4\" class=\"data row1 col4\" >94.88 (98.54)</td>\n",
       "      <td id=\"T_06d1d_row1_col5\" class=\"data row1 col5\" >3.71</td>\n",
       "    </tr>\n",
       "    <tr>\n",
       "      <td id=\"T_06d1d_row2_col0\" class=\"data row2 col0\" >Only Front</td>\n",
       "      <td id=\"T_06d1d_row2_col1\" class=\"data row2 col1\" >88.48 (99.69)</td>\n",
       "      <td id=\"T_06d1d_row2_col2\" class=\"data row2 col2\" >91.65 (99.84)</td>\n",
       "      <td id=\"T_06d1d_row2_col3\" class=\"data row2 col3\" >84.67 (99.53)</td>\n",
       "      <td id=\"T_06d1d_row2_col4\" class=\"data row2 col4\" >88.02 (99.69)</td>\n",
       "      <td id=\"T_06d1d_row2_col5\" class=\"data row2 col5\" >11.70</td>\n",
       "    </tr>\n",
       "    <tr>\n",
       "      <td id=\"T_06d1d_row3_col0\" class=\"data row3 col0\" >Only Rear</td>\n",
       "      <td id=\"T_06d1d_row3_col1\" class=\"data row3 col1\" >95.24 (96.23)</td>\n",
       "      <td id=\"T_06d1d_row3_col2\" class=\"data row3 col2\" >94.79 (95.80)</td>\n",
       "      <td id=\"T_06d1d_row3_col3\" class=\"data row3 col3\" >95.76 (96.71)</td>\n",
       "      <td id=\"T_06d1d_row3_col4\" class=\"data row3 col4\" >95.27 (96.25)</td>\n",
       "      <td id=\"T_06d1d_row3_col5\" class=\"data row3 col5\" >1.02</td>\n",
       "    </tr>\n",
       "    <tr>\n",
       "      <td id=\"T_06d1d_row4_col0\" class=\"data row4 col0\" >Only Resonant</td>\n",
       "      <td id=\"T_06d1d_row4_col1\" class=\"data row4 col1\" >85.84 (99.38)</td>\n",
       "      <td id=\"T_06d1d_row4_col2\" class=\"data row4 col2\" >84.57 (99.62)</td>\n",
       "      <td id=\"T_06d1d_row4_col3\" class=\"data row4 col3\" >87.69 (99.13)</td>\n",
       "      <td id=\"T_06d1d_row4_col4\" class=\"data row4 col4\" >86.10 (99.38)</td>\n",
       "      <td id=\"T_06d1d_row4_col5\" class=\"data row4 col5\" >13.36</td>\n",
       "    </tr>\n",
       "  </tbody>\n",
       "</table>\n"
      ],
      "text/plain": [
       "<pandas.io.formats.style.Styler at 0x7f0bdfcc7310>"
      ]
     },
     "metadata": {},
     "output_type": "display_data"
    }
   ],
   "source": [
    "display(metrics_df.style.hide(axis='index'))\n"
   ]
  }
 ],
 "metadata": {
  "kernelspec": {
   "display_name": "Python 3 (ipykernel)",
   "language": "python",
   "name": "python3"
  },
  "language_info": {
   "codemirror_mode": {
    "name": "ipython",
    "version": 3
   },
   "file_extension": ".py",
   "mimetype": "text/x-python",
   "name": "python",
   "nbconvert_exporter": "python",
   "pygments_lexer": "ipython3",
   "version": "3.10.12"
  }
 },
 "nbformat": 4,
 "nbformat_minor": 5
}
