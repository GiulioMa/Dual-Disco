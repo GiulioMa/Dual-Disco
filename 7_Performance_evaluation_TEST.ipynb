{
 "cells": [
  {
   "cell_type": "code",
   "execution_count": 1,
   "id": "55ceda36",
   "metadata": {},
   "outputs": [],
   "source": [
    "import torch\n",
    "import random\n",
    "import torch.nn as nn\n",
    "import torch.optim as optim\n",
    "import torch.nn.functional as F\n",
    "\n",
    "class SignalClassifier(nn.Module):\n",
    "    def __init__(self, input_channels, filter_size, win_len):\n",
    "        super(SignalClassifier, self).__init__()\n",
    "\n",
    "        # Initial convolution layer with increased filters\n",
    "        self.conv1 = nn.Conv1d(in_channels=input_channels, out_channels=2, kernel_size=filter_size, padding='same')\n",
    "        self.bn1 = nn.BatchNorm1d(2)  # BatchNorm layer after the first conv layer\n",
    "        self.prelu1 = nn.PReLU()\n",
    "\n",
    "        # Branch 1: Convolution layers followed by output layer\n",
    "        self.branch1_layers = nn.ModuleList()\n",
    "        self.branch1_bns = nn.ModuleList()  # BatchNorm layers for branch 1\n",
    "        for i in range(2):\n",
    "            self.branch1_layers.append(nn.Conv1d(in_channels=2 if i == 0 else 8, out_channels=8, kernel_size=filter_size, padding='same'))\n",
    "            self.branch1_bns.append(nn.BatchNorm1d(8))\n",
    "        self.branch1_prelus = nn.ModuleList([nn.PReLU() for _ in range(2)])\n",
    "        self.out_branch1 = nn.Conv1d(in_channels=8, out_channels=8, kernel_size=filter_size, padding='same')\n",
    "        \n",
    "        self.fc1_branch1 = nn.Linear(8*win_len, 128)\n",
    "        self.fc2_branch1 = nn.Linear(128, 1)\n",
    "        \n",
    "        # Branch 2: Convolution layers followed by output layer\n",
    "        self.branch2_layers = nn.ModuleList()\n",
    "        self.branch2_bns = nn.ModuleList()  # BatchNorm layers for branch 2\n",
    "        for i in range(2):\n",
    "            self.branch2_layers.append(nn.Conv1d(in_channels=2 if i == 0 else 8, out_channels=8, kernel_size=filter_size, padding='same'))\n",
    "            self.branch2_bns.append(nn.BatchNorm1d(8))\n",
    "        self.branch2_prelus = nn.ModuleList([nn.PReLU() for _ in range(2)])\n",
    "        self.out_branch2 = nn.Conv1d(in_channels=8, out_channels=8, kernel_size=filter_size, padding='same')\n",
    "        \n",
    "        self.fc1_branch2 = nn.Linear(8*win_len, 128)\n",
    "        self.fc2_branch2 = nn.Linear(128, 1)\n",
    "\n",
    "    def forward(self, x):\n",
    "        x = self.prelu1(self.bn1(self.conv1(x)))  # Apply BatchNorm after the first conv layer\n",
    "\n",
    "        # Branch 1\n",
    "        x_branch1 = x\n",
    "        for layer, bn, prelu in zip(self.branch1_layers, self.branch1_bns, self.branch1_prelus):\n",
    "            x_branch1 = prelu(bn(layer(x_branch1)))  # Apply BatchNorm after each conv layer\n",
    "        x_branch1 = self.out_branch1(x_branch1)\n",
    "        x_branch1 = x_branch1.view(x_branch1.size(0), -1)  # Flatten the output\n",
    "        x_branch1 = F.relu(self.fc1_branch1(x_branch1))\n",
    "        out1 = self.fc2_branch1(x_branch1)\n",
    "\n",
    "        # Branch 2\n",
    "        x_branch2 = x\n",
    "        for layer, bn, prelu in zip(self.branch2_layers, self.branch2_bns, self.branch2_prelus):\n",
    "            x_branch2 = prelu(bn(layer(x_branch2)))  # Apply BatchNorm after each conv layer\n",
    "        x_branch2 = self.out_branch2(x_branch2)\n",
    "        x_branch2 = x_branch2.view(x_branch2.size(0), -1)  # Flatten the output\n",
    "        x_branch2 = F.relu(self.fc1_branch2(x_branch2))\n",
    "        out2 = self.fc2_branch2(x_branch2)\n",
    "\n",
    "        return out1, out2\n",
    "    \n",
    "class SignalClassifierSeq(nn.Module):\n",
    "    def __init__(self, input_channels, filter_size, win_len):\n",
    "        super(SignalClassifierSeq, self).__init__()\n",
    "\n",
    "        # Initial convolution layer\n",
    "        self.conv1 = nn.Conv1d(in_channels=input_channels, out_channels=2, kernel_size=filter_size, padding='same')\n",
    "        self.bn1 = nn.BatchNorm1d(2)  # BatchNorm layer after the first conv layer\n",
    "        self.prelu1 = nn.PReLU()\n",
    "\n",
    "        # Convolution layers followed by output layer\n",
    "        self.branch1_layers = nn.ModuleList()\n",
    "        self.branch1_bns = nn.ModuleList()  # BatchNorm layers for branch 1\n",
    "        for i in range(2):\n",
    "            self.branch1_layers.append(nn.Conv1d(in_channels=2 if i == 0 else 8, out_channels=8, kernel_size=filter_size, padding='same'))\n",
    "            self.branch1_bns.append(nn.BatchNorm1d(8))\n",
    "        self.branch1_prelus = nn.ModuleList([nn.PReLU() for _ in range(2)])\n",
    "        self.out_branch1 = nn.Conv1d(in_channels=8, out_channels=8, kernel_size=filter_size, padding='same')\n",
    "        \n",
    "        self.fc1_branch1 = nn.Linear(8*win_len, 128)\n",
    "        self.fc2_branch1 = nn.Linear(128, 1)\n",
    "        \n",
    "\n",
    "    def forward(self, x):\n",
    "        x_branch1 = self.prelu1(self.bn1(self.conv1(x)))  # Apply BatchNorm after the first conv layer\n",
    "\n",
    "        for layer, bn, prelu in zip(self.branch1_layers, self.branch1_bns, self.branch1_prelus):\n",
    "            x_branch1 = prelu(bn(layer(x_branch1)))  # Apply BatchNorm after each conv layer\n",
    "        x_branch1 = self.out_branch1(x_branch1)\n",
    "        x_branch1 = x_branch1.view(x_branch1.size(0), -1)  # Flatten the output\n",
    "        x_branch1 = F.relu(self.fc1_branch1(x_branch1))\n",
    "        out1 = self.fc2_branch1(x_branch1)\n",
    "\n",
    "        return out1\n",
    "\n"
   ]
  },
  {
   "cell_type": "code",
   "execution_count": 2,
   "id": "bf8cf127",
   "metadata": {},
   "outputs": [],
   "source": [
    "# Load the data\n",
    "test_database_sim = torch.load('./Data/test_classification_short_TEST')\n",
    "test_database_seq = torch.load('./Data/test_classification_short_seq_TEST')\n"
   ]
  },
  {
   "cell_type": "code",
   "execution_count": 3,
   "id": "3362badb",
   "metadata": {},
   "outputs": [],
   "source": [
    "test_names_sim = test_database_sim['file_names']\n",
    "test_names_seq = test_database_seq['file_names']\n",
    "\n",
    "\n",
    "test_modes_sim = test_database_sim['mode_descriptions']\n",
    "test_modes_seq = test_database_seq['mode_descriptions']"
   ]
  },
  {
   "cell_type": "code",
   "execution_count": 4,
   "id": "7ecdd5ae",
   "metadata": {},
   "outputs": [
    {
     "data": {
      "text/plain": [
       "(('Conduction 4', 'Conduction 4'), ('Conduction 4', 'Conduction 4'))"
      ]
     },
     "execution_count": 4,
     "metadata": {},
     "output_type": "execute_result"
    }
   ],
   "source": [
    "test_modes_sim[0], test_modes_seq[0]"
   ]
  },
  {
   "cell_type": "code",
   "execution_count": 5,
   "id": "b075faaa",
   "metadata": {},
   "outputs": [],
   "source": [
    "def mode_to_int(mode):\n",
    "    return 0 if 'Conduction' in mode else 1\n",
    "\n",
    "test_modes_int_sim = [(mode_to_int(mode0), mode_to_int(mode1)) for mode0, mode1 in test_modes_sim]\n",
    "test_modes_int_seq = [(mode_to_int(mode0), mode_to_int(mode1)) for mode0, mode1 in test_modes_seq]\n"
   ]
  },
  {
   "cell_type": "code",
   "execution_count": 6,
   "id": "0e3fb704",
   "metadata": {},
   "outputs": [],
   "source": [
    "test_data_sim = test_database_sim['sim_tensor']\n",
    "test_data_seq = test_database_seq['seq_tensor']"
   ]
  },
  {
   "cell_type": "code",
   "execution_count": 7,
   "id": "04146f1e",
   "metadata": {},
   "outputs": [
    {
     "data": {
      "text/plain": [
       "(torch.Size([4740, 3, 5000]), torch.Size([4740, 2, 3, 5000]))"
      ]
     },
     "execution_count": 7,
     "metadata": {},
     "output_type": "execute_result"
    }
   ],
   "source": [
    "test_data_sim.shape, test_data_seq.shape"
   ]
  },
  {
   "cell_type": "code",
   "execution_count": 8,
   "id": "f8da858a-a21d-4d6f-8d1b-f8b4b5eb19b4",
   "metadata": {},
   "outputs": [
    {
     "data": {
      "text/plain": [
       "<torch._C.Generator at 0x7fa3a1126d30>"
      ]
     },
     "execution_count": 8,
     "metadata": {},
     "output_type": "execute_result"
    }
   ],
   "source": [
    "import numpy as np\n",
    "# Set random seed for reproducibility\n",
    "random_seed = 42\n",
    "random.seed(random_seed)\n",
    "np.random.seed(random_seed)\n",
    "torch.manual_seed(random_seed)\n"
   ]
  },
  {
   "cell_type": "code",
   "execution_count": 9,
   "id": "9ba97f51",
   "metadata": {},
   "outputs": [],
   "source": [
    "from torch.utils.data import Dataset, DataLoader\n",
    "\n",
    "class CustomDataset(Dataset):\n",
    "    def __init__(self, data, modes, names):\n",
    "        \"\"\"\n",
    "        Args:\n",
    "            data (Tensor): A tensor containing the data.\n",
    "            modes (list): A list of mode descriptions for each sample.\n",
    "            names (list): A list of file names for each sample.\n",
    "        \"\"\"\n",
    "        self.data = data\n",
    "        self.modes = modes\n",
    "        self.names = names\n",
    "\n",
    "    def __len__(self):\n",
    "        return len(self.data)\n",
    "\n",
    "    def __getitem__(self, idx):\n",
    "        sample = self.data[idx]\n",
    "        mode = self.modes[idx]\n",
    "        name = self.names[idx]\n",
    "        return sample, mode, name\n"
   ]
  },
  {
   "cell_type": "code",
   "execution_count": 10,
   "id": "88d5f367",
   "metadata": {},
   "outputs": [],
   "source": [
    "# Params that do not change\n",
    "input_channels = 3  \n",
    "win_len = test_data_sim.shape[-1]  "
   ]
  },
  {
   "cell_type": "code",
   "execution_count": 11,
   "id": "530d9a11",
   "metadata": {},
   "outputs": [],
   "source": [
    "device = torch.device(\"cuda:0\" if torch.cuda.is_available() else \"cpu\")\n"
   ]
  },
  {
   "cell_type": "code",
   "execution_count": 12,
   "id": "ce106ccd",
   "metadata": {},
   "outputs": [],
   "source": [
    "# Define the loss function\n",
    "loss_function = nn.BCEWithLogitsLoss()\n"
   ]
  },
  {
   "cell_type": "code",
   "execution_count": 13,
   "id": "6908733e",
   "metadata": {},
   "outputs": [],
   "source": [
    "import pandas as pd\n",
    "import torch\n",
    "from sklearn.metrics import precision_recall_fscore_support, confusion_matrix\n",
    "import matplotlib.pyplot as plt\n",
    "import seaborn as sns\n",
    "import numpy as np\n",
    "\n",
    "def plot_confusion_matrix_with_percentages(targets, preds, title, target_names=['Negative', 'Positive']):\n",
    "    cm = confusion_matrix(targets.numpy(), preds.numpy())\n",
    "    # Normalise\n",
    "    cmn = cm.astype('float') / cm.sum(axis=1)[:, np.newaxis]\n",
    "    fig, ax = plt.subplots(figsize=(10, 10))\n",
    "    sns.heatmap(cmn*100, annot=True, fmt='.2f', xticklabels=target_names, yticklabels=target_names, ax=ax)\n",
    "    plt.ylabel('Actual')\n",
    "    plt.xlabel('Predicted')\n",
    "    plt.title(title)\n",
    "    plt.show(block=False)\n",
    "\n",
    "def evaluate_model(model, device, test_loader, loss_function, eval_type):\n",
    "    model.eval()\n",
    "    total_loss = 0\n",
    "    all_targets, all_preds = [], []\n",
    "    \n",
    "    with torch.no_grad():\n",
    "        for data, (target1, target2), _ in test_loader:\n",
    "            data = data.to(device)\n",
    "            target1, target2 = target1.to(device).float(), target2.to(device).float()\n",
    "            \n",
    "            if eval_type == \"sim\":\n",
    "                outputs = model(data)\n",
    "            elif eval_type == \"seq\":\n",
    "                data1, data2 = data[:, 0, :, :], data[:, 1, :, :]\n",
    "                output1 = model(data1)\n",
    "                output2 = model(data2)\n",
    "                outputs = (output1, output2)\n",
    "            else:\n",
    "                raise ValueError(\"Invalid eval_type specified\")\n",
    "            \n",
    "            for i, output in enumerate(outputs):\n",
    "                target = target1 if i == 0 else target2\n",
    "                loss = loss_function(output.squeeze(), target)\n",
    "                total_loss += loss.item()\n",
    "                \n",
    "                sig_output = torch.sigmoid(output).squeeze()\n",
    "                pred = sig_output > 0.5\n",
    "                \n",
    "                all_targets.append(target.cpu())\n",
    "                all_preds.append(pred.float().cpu())\n",
    "\n",
    "    all_targets = torch.cat(all_targets)\n",
    "    all_preds = torch.cat(all_preds)\n",
    "    \n",
    "    precision, recall, f1_score, _ = precision_recall_fscore_support(all_targets, all_preds, average='binary')\n",
    "    accuracy = all_preds.eq(all_targets.view_as(all_preds)).sum().item() / len(all_targets)\n",
    "    \n",
    "    metrics_df = pd.DataFrame({\n",
    "        'Precision': [precision*100],\n",
    "        'Recall': [recall*100],\n",
    "        'F1 Score': [f1_score*100],\n",
    "        'Accuracy': [accuracy*100]\n",
    "    })\n",
    "    \n",
    "    # Print metrics\n",
    "    display(metrics_df.style.hide(axis='index'))\n",
    "    \n",
    "    # Plot confusion matrix with percentages\n",
    "    plot_confusion_matrix_with_percentages(all_targets, all_preds, f\"Predictions ({eval_type})\", ['Negative', 'Positive'])\n",
    "    \n",
    "    return metrics_df\n"
   ]
  },
  {
   "cell_type": "code",
   "execution_count": 14,
   "id": "4a19bdd3",
   "metadata": {},
   "outputs": [],
   "source": [
    "model_sim_paths = ['./best_model.pth', \n",
    "                   './best_model_no_resonant.pth', \n",
    "                   './best_model_only_front.pth', \n",
    "                   './best_model_only_rear.pth', \n",
    "                   './best_model_only_resonant.pth']\n",
    "model_seq_paths = ['./best_model_seq.pth', \n",
    "                   './best_model_seq_no_resonant.pth', \n",
    "                   './best_model_seq_only_front.pth', \n",
    "                   './best_model_seq_only_rear.pth', \n",
    "                   './best_model_seq_only_resonant.pth']"
   ]
  },
  {
   "cell_type": "code",
   "execution_count": 15,
   "id": "ef7d77f3",
   "metadata": {},
   "outputs": [
    {
     "data": {
      "text/plain": [
       "(torch.Size([4740, 3, 5000]), torch.Size([4740, 2, 3, 5000]))"
      ]
     },
     "execution_count": 15,
     "metadata": {},
     "output_type": "execute_result"
    }
   ],
   "source": [
    "test_data_sim.shape, test_data_seq.shape"
   ]
  },
  {
   "cell_type": "code",
   "execution_count": 16,
   "id": "0f13e229",
   "metadata": {
    "scrolled": false
   },
   "outputs": [
    {
     "name": "stdout",
     "output_type": "stream",
     "text": [
      "Evaluating: All Sensors\n"
     ]
    },
    {
     "data": {
      "text/html": [
       "<style type=\"text/css\">\n",
       "</style>\n",
       "<table id=\"T_a3a2b\">\n",
       "  <thead>\n",
       "    <tr>\n",
       "      <th id=\"T_a3a2b_level0_col0\" class=\"col_heading level0 col0\" >Precision</th>\n",
       "      <th id=\"T_a3a2b_level0_col1\" class=\"col_heading level0 col1\" >Recall</th>\n",
       "      <th id=\"T_a3a2b_level0_col2\" class=\"col_heading level0 col2\" >F1 Score</th>\n",
       "      <th id=\"T_a3a2b_level0_col3\" class=\"col_heading level0 col3\" >Accuracy</th>\n",
       "    </tr>\n",
       "  </thead>\n",
       "  <tbody>\n",
       "    <tr>\n",
       "      <td id=\"T_a3a2b_row0_col0\" class=\"data row0 col0\" >59.008556</td>\n",
       "      <td id=\"T_a3a2b_row0_col1\" class=\"data row0 col1\" >49.472574</td>\n",
       "      <td id=\"T_a3a2b_row0_col2\" class=\"data row0 col2\" >53.821437</td>\n",
       "      <td id=\"T_a3a2b_row0_col3\" class=\"data row0 col3\" >57.552743</td>\n",
       "    </tr>\n",
       "  </tbody>\n",
       "</table>\n"
      ],
      "text/plain": [
       "<pandas.io.formats.style.Styler at 0x7fa1a96ab0d0>"
      ]
     },
     "metadata": {},
     "output_type": "display_data"
    },
    {
     "data": {
      "image/png": "[encoded data removed]",
      "text/plain": [
       "<Figure size 720x720 with 2 Axes>"
      ]
     },
     "metadata": {
      "needs_background": "light"
     },
     "output_type": "display_data"
    },
    {
     "data": {
      "text/html": [
       "<style type=\"text/css\">\n",
       "</style>\n",
       "<table id=\"T_ba7c4\">\n",
       "  <thead>\n",
       "    <tr>\n",
       "      <th id=\"T_ba7c4_level0_col0\" class=\"col_heading level0 col0\" >Precision</th>\n",
       "      <th id=\"T_ba7c4_level0_col1\" class=\"col_heading level0 col1\" >Recall</th>\n",
       "      <th id=\"T_ba7c4_level0_col2\" class=\"col_heading level0 col2\" >F1 Score</th>\n",
       "      <th id=\"T_ba7c4_level0_col3\" class=\"col_heading level0 col3\" >Accuracy</th>\n",
       "    </tr>\n",
       "  </thead>\n",
       "  <tbody>\n",
       "    <tr>\n",
       "      <td id=\"T_ba7c4_row0_col0\" class=\"data row0 col0\" >99.484425</td>\n",
       "      <td id=\"T_ba7c4_row0_col1\" class=\"data row0 col1\" >97.700422</td>\n",
       "      <td id=\"T_ba7c4_row0_col2\" class=\"data row0 col2\" >98.584353</td>\n",
       "      <td id=\"T_ba7c4_row0_col3\" class=\"data row0 col3\" >98.597046</td>\n",
       "    </tr>\n",
       "  </tbody>\n",
       "</table>\n"
      ],
      "text/plain": [
       "<pandas.io.formats.style.Styler at 0x7fa1a6f66980>"
      ]
     },
     "metadata": {},
     "output_type": "display_data"
    },
    {
     "data": {
      "image/png": "[encoded data removed]",
      "text/plain": [
       "<Figure size 720x720 with 2 Axes>"
      ]
     },
     "metadata": {
      "needs_background": "light"
     },
     "output_type": "display_data"
    },
    {
     "name": "stdout",
     "output_type": "stream",
     "text": [
      "Evaluating: No Resonant\n"
     ]
    },
    {
     "data": {
      "text/html": [
       "<style type=\"text/css\">\n",
       "</style>\n",
       "<table id=\"T_7abd8\">\n",
       "  <thead>\n",
       "    <tr>\n",
       "      <th id=\"T_7abd8_level0_col0\" class=\"col_heading level0 col0\" >Precision</th>\n",
       "      <th id=\"T_7abd8_level0_col1\" class=\"col_heading level0 col1\" >Recall</th>\n",
       "      <th id=\"T_7abd8_level0_col2\" class=\"col_heading level0 col2\" >F1 Score</th>\n",
       "      <th id=\"T_7abd8_level0_col3\" class=\"col_heading level0 col3\" >Accuracy</th>\n",
       "    </tr>\n",
       "  </thead>\n",
       "  <tbody>\n",
       "    <tr>\n",
       "      <td id=\"T_7abd8_row0_col0\" class=\"data row0 col0\" >92.783928</td>\n",
       "      <td id=\"T_7abd8_row0_col1\" class=\"data row0 col1\" >95.485232</td>\n",
       "      <td id=\"T_7abd8_row0_col2\" class=\"data row0 col2\" >94.115201</td>\n",
       "      <td id=\"T_7abd8_row0_col3\" class=\"data row0 col3\" >94.029536</td>\n",
       "    </tr>\n",
       "  </tbody>\n",
       "</table>\n"
      ],
      "text/plain": [
       "<pandas.io.formats.style.Styler at 0x7fa1a96ab310>"
      ]
     },
     "metadata": {},
     "output_type": "display_data"
    },
    {
     "data": {
      "image/png": "[encoded data removed]",
      "text/plain": [
       "<Figure size 720x720 with 2 Axes>"
      ]
     },
     "metadata": {
      "needs_background": "light"
     },
     "output_type": "display_data"
    },
    {
     "data": {
      "text/html": [
       "<style type=\"text/css\">\n",
       "</style>\n",
       "<table id=\"T_0248f\">\n",
       "  <thead>\n",
       "    <tr>\n",
       "      <th id=\"T_0248f_level0_col0\" class=\"col_heading level0 col0\" >Precision</th>\n",
       "      <th id=\"T_0248f_level0_col1\" class=\"col_heading level0 col1\" >Recall</th>\n",
       "      <th id=\"T_0248f_level0_col2\" class=\"col_heading level0 col2\" >F1 Score</th>\n",
       "      <th id=\"T_0248f_level0_col3\" class=\"col_heading level0 col3\" >Accuracy</th>\n",
       "    </tr>\n",
       "  </thead>\n",
       "  <tbody>\n",
       "    <tr>\n",
       "      <td id=\"T_0248f_row0_col0\" class=\"data row0 col0\" >98.737108</td>\n",
       "      <td id=\"T_0248f_row0_col1\" class=\"data row0 col1\" >98.966245</td>\n",
       "      <td id=\"T_0248f_row0_col2\" class=\"data row0 col2\" >98.851544</td>\n",
       "      <td id=\"T_0248f_row0_col3\" class=\"data row0 col3\" >98.850211</td>\n",
       "    </tr>\n",
       "  </tbody>\n",
       "</table>\n"
      ],
      "text/plain": [
       "<pandas.io.formats.style.Styler at 0x7fa1a96e4a60>"
      ]
     },
     "metadata": {},
     "output_type": "display_data"
    },
    {
     "data": {
      "image/png": "[encoded data removed]",
      "text/plain": [
       "<Figure size 720x720 with 2 Axes>"
      ]
     },
     "metadata": {
      "needs_background": "light"
     },
     "output_type": "display_data"
    },
    {
     "name": "stdout",
     "output_type": "stream",
     "text": [
      "Evaluating: Only Front\n"
     ]
    },
    {
     "data": {
      "text/html": [
       "<style type=\"text/css\">\n",
       "</style>\n",
       "<table id=\"T_01fea\">\n",
       "  <thead>\n",
       "    <tr>\n",
       "      <th id=\"T_01fea_level0_col0\" class=\"col_heading level0 col0\" >Precision</th>\n",
       "      <th id=\"T_01fea_level0_col1\" class=\"col_heading level0 col1\" >Recall</th>\n",
       "      <th id=\"T_01fea_level0_col2\" class=\"col_heading level0 col2\" >F1 Score</th>\n",
       "      <th id=\"T_01fea_level0_col3\" class=\"col_heading level0 col3\" >Accuracy</th>\n",
       "    </tr>\n",
       "  </thead>\n",
       "  <tbody>\n",
       "    <tr>\n",
       "      <td id=\"T_01fea_row0_col0\" class=\"data row0 col0\" >92.615160</td>\n",
       "      <td id=\"T_01fea_row0_col1\" class=\"data row0 col1\" >80.168776</td>\n",
       "      <td id=\"T_01fea_row0_col2\" class=\"data row0 col2\" >85.943684</td>\n",
       "      <td id=\"T_01fea_row0_col3\" class=\"data row0 col3\" >86.888186</td>\n",
       "    </tr>\n",
       "  </tbody>\n",
       "</table>\n"
      ],
      "text/plain": [
       "<pandas.io.formats.style.Styler at 0x7fa1a6da0a90>"
      ]
     },
     "metadata": {},
     "output_type": "display_data"
    },
    {
     "data": {
      "image/png": "[encoded data removed]",
      "text/plain": [
       "<Figure size 720x720 with 2 Axes>"
      ]
     },
     "metadata": {
      "needs_background": "light"
     },
     "output_type": "display_data"
    },
    {
     "data": {
      "text/html": [
       "<style type=\"text/css\">\n",
       "</style>\n",
       "<table id=\"T_9ef10\">\n",
       "  <thead>\n",
       "    <tr>\n",
       "      <th id=\"T_9ef10_level0_col0\" class=\"col_heading level0 col0\" >Precision</th>\n",
       "      <th id=\"T_9ef10_level0_col1\" class=\"col_heading level0 col1\" >Recall</th>\n",
       "      <th id=\"T_9ef10_level0_col2\" class=\"col_heading level0 col2\" >F1 Score</th>\n",
       "      <th id=\"T_9ef10_level0_col3\" class=\"col_heading level0 col3\" >Accuracy</th>\n",
       "    </tr>\n",
       "  </thead>\n",
       "  <tbody>\n",
       "    <tr>\n",
       "      <td id=\"T_9ef10_row0_col0\" class=\"data row0 col0\" >99.915128</td>\n",
       "      <td id=\"T_9ef10_row0_col1\" class=\"data row0 col1\" >99.345992</td>\n",
       "      <td id=\"T_9ef10_row0_col2\" class=\"data row0 col2\" >99.629747</td>\n",
       "      <td id=\"T_9ef10_row0_col3\" class=\"data row0 col3\" >99.630802</td>\n",
       "    </tr>\n",
       "  </tbody>\n",
       "</table>\n"
      ],
      "text/plain": [
       "<pandas.io.formats.style.Styler at 0x7fa1a6dec580>"
      ]
     },
     "metadata": {},
     "output_type": "display_data"
    },
    {
     "data": {
      "image/png": "[encoded data removed]",
      "text/plain": [
       "<Figure size 720x720 with 2 Axes>"
      ]
     },
     "metadata": {
      "needs_background": "light"
     },
     "output_type": "display_data"
    },
    {
     "name": "stdout",
     "output_type": "stream",
     "text": [
      "Evaluating: Only Rear\n"
     ]
    },
    {
     "data": {
      "text/html": [
       "<style type=\"text/css\">\n",
       "</style>\n",
       "<table id=\"T_7c518\">\n",
       "  <thead>\n",
       "    <tr>\n",
       "      <th id=\"T_7c518_level0_col0\" class=\"col_heading level0 col0\" >Precision</th>\n",
       "      <th id=\"T_7c518_level0_col1\" class=\"col_heading level0 col1\" >Recall</th>\n",
       "      <th id=\"T_7c518_level0_col2\" class=\"col_heading level0 col2\" >F1 Score</th>\n",
       "      <th id=\"T_7c518_level0_col3\" class=\"col_heading level0 col3\" >Accuracy</th>\n",
       "    </tr>\n",
       "  </thead>\n",
       "  <tbody>\n",
       "    <tr>\n",
       "      <td id=\"T_7c518_row0_col0\" class=\"data row0 col0\" >94.799748</td>\n",
       "      <td id=\"T_7c518_row0_col1\" class=\"data row0 col1\" >95.379747</td>\n",
       "      <td id=\"T_7c518_row0_col2\" class=\"data row0 col2\" >95.088863</td>\n",
       "      <td id=\"T_7c518_row0_col3\" class=\"data row0 col3\" >95.073840</td>\n",
       "    </tr>\n",
       "  </tbody>\n",
       "</table>\n"
      ],
      "text/plain": [
       "<pandas.io.formats.style.Styler at 0x7fa1a6da2770>"
      ]
     },
     "metadata": {},
     "output_type": "display_data"
    },
    {
     "data": {
      "image/png": "[encoded data removed]",
      "text/plain": [
       "<Figure size 720x720 with 2 Axes>"
      ]
     },
     "metadata": {
      "needs_background": "light"
     },
     "output_type": "display_data"
    },
    {
     "data": {
      "text/html": [
       "<style type=\"text/css\">\n",
       "</style>\n",
       "<table id=\"T_ef5ff\">\n",
       "  <thead>\n",
       "    <tr>\n",
       "      <th id=\"T_ef5ff_level0_col0\" class=\"col_heading level0 col0\" >Precision</th>\n",
       "      <th id=\"T_ef5ff_level0_col1\" class=\"col_heading level0 col1\" >Recall</th>\n",
       "      <th id=\"T_ef5ff_level0_col2\" class=\"col_heading level0 col2\" >F1 Score</th>\n",
       "      <th id=\"T_ef5ff_level0_col3\" class=\"col_heading level0 col3\" >Accuracy</th>\n",
       "    </tr>\n",
       "  </thead>\n",
       "  <tbody>\n",
       "    <tr>\n",
       "      <td id=\"T_ef5ff_row0_col0\" class=\"data row0 col0\" >96.031079</td>\n",
       "      <td id=\"T_ef5ff_row0_col1\" class=\"data row0 col1\" >96.476793</td>\n",
       "      <td id=\"T_ef5ff_row0_col2\" class=\"data row0 col2\" >96.253420</td>\n",
       "      <td id=\"T_ef5ff_row0_col3\" class=\"data row0 col3\" >96.244726</td>\n",
       "    </tr>\n",
       "  </tbody>\n",
       "</table>\n"
      ],
      "text/plain": [
       "<pandas.io.formats.style.Styler at 0x7fa1a6dec550>"
      ]
     },
     "metadata": {},
     "output_type": "display_data"
    },
    {
     "data": {
      "image/png": "[encoded data removed]",
      "text/plain": [
       "<Figure size 720x720 with 2 Axes>"
      ]
     },
     "metadata": {
      "needs_background": "light"
     },
     "output_type": "display_data"
    },
    {
     "name": "stdout",
     "output_type": "stream",
     "text": [
      "Evaluating: Only Resonant\n"
     ]
    },
    {
     "data": {
      "text/html": [
       "<style type=\"text/css\">\n",
       "</style>\n",
       "<table id=\"T_f1b92\">\n",
       "  <thead>\n",
       "    <tr>\n",
       "      <th id=\"T_f1b92_level0_col0\" class=\"col_heading level0 col0\" >Precision</th>\n",
       "      <th id=\"T_f1b92_level0_col1\" class=\"col_heading level0 col1\" >Recall</th>\n",
       "      <th id=\"T_f1b92_level0_col2\" class=\"col_heading level0 col2\" >F1 Score</th>\n",
       "      <th id=\"T_f1b92_level0_col3\" class=\"col_heading level0 col3\" >Accuracy</th>\n",
       "    </tr>\n",
       "  </thead>\n",
       "  <tbody>\n",
       "    <tr>\n",
       "      <td id=\"T_f1b92_row0_col0\" class=\"data row0 col0\" >50.501253</td>\n",
       "      <td id=\"T_f1b92_row0_col1\" class=\"data row0 col1\" >51.012658</td>\n",
       "      <td id=\"T_f1b92_row0_col2\" class=\"data row0 col2\" >50.755668</td>\n",
       "      <td id=\"T_f1b92_row0_col3\" class=\"data row0 col3\" >50.506329</td>\n",
       "    </tr>\n",
       "  </tbody>\n",
       "</table>\n"
      ],
      "text/plain": [
       "<pandas.io.formats.style.Styler at 0x7fa1a6da0160>"
      ]
     },
     "metadata": {},
     "output_type": "display_data"
    },
    {
     "data": {
      "image/png": "[encoded data removed]",
      "text/plain": [
       "<Figure size 720x720 with 2 Axes>"
      ]
     },
     "metadata": {
      "needs_background": "light"
     },
     "output_type": "display_data"
    },
    {
     "data": {
      "text/html": [
       "<style type=\"text/css\">\n",
       "</style>\n",
       "<table id=\"T_bd7fc\">\n",
       "  <thead>\n",
       "    <tr>\n",
       "      <th id=\"T_bd7fc_level0_col0\" class=\"col_heading level0 col0\" >Precision</th>\n",
       "      <th id=\"T_bd7fc_level0_col1\" class=\"col_heading level0 col1\" >Recall</th>\n",
       "      <th id=\"T_bd7fc_level0_col2\" class=\"col_heading level0 col2\" >F1 Score</th>\n",
       "      <th id=\"T_bd7fc_level0_col3\" class=\"col_heading level0 col3\" >Accuracy</th>\n",
       "    </tr>\n",
       "  </thead>\n",
       "  <tbody>\n",
       "    <tr>\n",
       "      <td id=\"T_bd7fc_row0_col0\" class=\"data row0 col0\" >51.443456</td>\n",
       "      <td id=\"T_bd7fc_row0_col1\" class=\"data row0 col1\" >100.000000</td>\n",
       "      <td id=\"T_bd7fc_row0_col2\" class=\"data row0 col2\" >67.937509</td>\n",
       "      <td id=\"T_bd7fc_row0_col3\" class=\"data row0 col3\" >52.805907</td>\n",
       "    </tr>\n",
       "  </tbody>\n",
       "</table>\n"
      ],
      "text/plain": [
       "<pandas.io.formats.style.Styler at 0x7fa1a6e4a1d0>"
      ]
     },
     "metadata": {},
     "output_type": "display_data"
    },
    {
     "data": {
      "image/png": "[encoded data removed]",
      "text/plain": [
       "<Figure size 720x720 with 2 Axes>"
      ]
     },
     "metadata": {
      "needs_background": "light"
     },
     "output_type": "display_data"
    },
    {
     "data": {
      "text/html": [
       "<style type=\"text/css\">\n",
       "</style>\n",
       "<table id=\"T_b19f8\">\n",
       "  <thead>\n",
       "    <tr>\n",
       "      <th id=\"T_b19f8_level0_col0\" class=\"col_heading level0 col0\" >Configuration</th>\n",
       "      <th id=\"T_b19f8_level0_col1\" class=\"col_heading level0 col1\" >Accuracy</th>\n",
       "      <th id=\"T_b19f8_level0_col2\" class=\"col_heading level0 col2\" >Precision</th>\n",
       "      <th id=\"T_b19f8_level0_col3\" class=\"col_heading level0 col3\" >Recall</th>\n",
       "      <th id=\"T_b19f8_level0_col4\" class=\"col_heading level0 col4\" >F1-Score</th>\n",
       "      <th id=\"T_b19f8_level0_col5\" class=\"col_heading level0 col5\" >Performance Reduction (%)</th>\n",
       "    </tr>\n",
       "  </thead>\n",
       "  <tbody>\n",
       "    <tr>\n",
       "      <td id=\"T_b19f8_row0_col0\" class=\"data row0 col0\" >All Sensors</td>\n",
       "      <td id=\"T_b19f8_row0_col1\" class=\"data row0 col1\" >57.55 (98.60)</td>\n",
       "      <td id=\"T_b19f8_row0_col2\" class=\"data row0 col2\" >59.01 (99.48)</td>\n",
       "      <td id=\"T_b19f8_row0_col3\" class=\"data row0 col3\" >49.47 (97.70)</td>\n",
       "      <td id=\"T_b19f8_row0_col4\" class=\"data row0 col4\" >53.82 (98.58)</td>\n",
       "      <td id=\"T_b19f8_row0_col5\" class=\"data row0 col5\" >45.41</td>\n",
       "    </tr>\n",
       "    <tr>\n",
       "      <td id=\"T_b19f8_row1_col0\" class=\"data row1 col0\" >No Resonant</td>\n",
       "      <td id=\"T_b19f8_row1_col1\" class=\"data row1 col1\" >94.03 (98.85)</td>\n",
       "      <td id=\"T_b19f8_row1_col2\" class=\"data row1 col2\" >92.78 (98.74)</td>\n",
       "      <td id=\"T_b19f8_row1_col3\" class=\"data row1 col3\" >95.49 (98.97)</td>\n",
       "      <td id=\"T_b19f8_row1_col4\" class=\"data row1 col4\" >94.12 (98.85)</td>\n",
       "      <td id=\"T_b19f8_row1_col5\" class=\"data row1 col5\" >4.79</td>\n",
       "    </tr>\n",
       "    <tr>\n",
       "      <td id=\"T_b19f8_row2_col0\" class=\"data row2 col0\" >Only Front</td>\n",
       "      <td id=\"T_b19f8_row2_col1\" class=\"data row2 col1\" >86.89 (99.63)</td>\n",
       "      <td id=\"T_b19f8_row2_col2\" class=\"data row2 col2\" >92.62 (99.92)</td>\n",
       "      <td id=\"T_b19f8_row2_col3\" class=\"data row2 col3\" >80.17 (99.35)</td>\n",
       "      <td id=\"T_b19f8_row2_col4\" class=\"data row2 col4\" >85.94 (99.63)</td>\n",
       "      <td id=\"T_b19f8_row2_col5\" class=\"data row2 col5\" >13.74</td>\n",
       "    </tr>\n",
       "    <tr>\n",
       "      <td id=\"T_b19f8_row3_col0\" class=\"data row3 col0\" >Only Rear</td>\n",
       "      <td id=\"T_b19f8_row3_col1\" class=\"data row3 col1\" >95.07 (96.24)</td>\n",
       "      <td id=\"T_b19f8_row3_col2\" class=\"data row3 col2\" >94.80 (96.03)</td>\n",
       "      <td id=\"T_b19f8_row3_col3\" class=\"data row3 col3\" >95.38 (96.48)</td>\n",
       "      <td id=\"T_b19f8_row3_col4\" class=\"data row3 col4\" >95.09 (96.25)</td>\n",
       "      <td id=\"T_b19f8_row3_col5\" class=\"data row3 col5\" >1.21</td>\n",
       "    </tr>\n",
       "    <tr>\n",
       "      <td id=\"T_b19f8_row4_col0\" class=\"data row4 col0\" >Only Resonant</td>\n",
       "      <td id=\"T_b19f8_row4_col1\" class=\"data row4 col1\" >50.51 (52.81)</td>\n",
       "      <td id=\"T_b19f8_row4_col2\" class=\"data row4 col2\" >50.50 (51.44)</td>\n",
       "      <td id=\"T_b19f8_row4_col3\" class=\"data row4 col3\" >51.01 (100.00)</td>\n",
       "      <td id=\"T_b19f8_row4_col4\" class=\"data row4 col4\" >50.76 (67.94)</td>\n",
       "      <td id=\"T_b19f8_row4_col5\" class=\"data row4 col5\" >25.29</td>\n",
       "    </tr>\n",
       "  </tbody>\n",
       "</table>\n"
      ],
      "text/plain": [
       "<pandas.io.formats.style.Styler at 0x7fa3ca90f610>"
      ]
     },
     "metadata": {},
     "output_type": "display_data"
    }
   ],
   "source": [
    "all_metrics = []  # Initialize an empty list to collect metrics\n",
    "\n",
    "# Loop through pairs of model paths for simultaneous and sequential models\n",
    "for model_sim_path, model_seq_path in zip(model_sim_paths, model_seq_paths):\n",
    "    try:\n",
    "        # Attempt to load the saved model state dicts\n",
    "        model_sim_data = torch.load(model_sim_path)\n",
    "        model_seq_data = torch.load(model_seq_path)\n",
    "    except FileNotFoundError as e:\n",
    "        # If model files are not found, report the error and skip to the next iteration\n",
    "        print(f\"Error loading models: {e}. Skipping...\")\n",
    "        continue\n",
    "    \n",
    "    # Adjust the test data based on the model type indicated by the file name\n",
    "    # This allows for testing different model configurations\n",
    "    configuration = \"All Sensors\"\n",
    "    if 'no_resonant' in model_sim_path:\n",
    "        configuration = \"No Resonant\"\n",
    "        # Narrow down the channels to exclude resonant data if specified\n",
    "        test_data_sim_a = test_data_sim.narrow(1, 0, 2)\n",
    "        test_data_seq_a = test_data_seq.narrow(2, 0, 2)\n",
    "    elif 'only_front' in model_sim_path:\n",
    "        configuration = \"Only Front\"\n",
    "        # Narrow down to only front sensor data if specified\n",
    "        test_data_sim_a = test_data_sim.narrow(1, 0, 1)\n",
    "        test_data_seq_a = test_data_seq.narrow(2, 0, 1)   \n",
    "    elif 'only_rear' in model_sim_path:\n",
    "        configuration = \"Only Rear\"\n",
    "        # Narrow down to only rear sensor data if specified\n",
    "        test_data_sim_a = test_data_sim.narrow(1, 1, 1)\n",
    "        test_data_seq_a = test_data_seq.narrow(2, 1, 1) \n",
    "    elif 'only_resonant' in model_sim_path:\n",
    "        configuration = \"Only Resonant\"\n",
    "        # Narrow down to only resonant data if specified\n",
    "        test_data_sim_a = test_data_sim.narrow(1, 2, 1)\n",
    "        test_data_seq_a = test_data_seq.narrow(2, 2, 1)    \n",
    "    else: \n",
    "        # Use the full dataset if no specific configuration is specified\n",
    "        test_data_sim_a = test_data_sim\n",
    "        test_data_seq_a = test_data_seq\n",
    "    print(f\"Evaluating: {configuration}\")\n",
    "        \n",
    "    # Create dataset instances with the adjusted data\n",
    "    test_dataset_sim = CustomDataset(test_data_sim_a, test_modes_int_sim, test_names_sim)\n",
    "    test_dataset_seq = CustomDataset(test_data_seq_a, test_modes_int_seq, test_names_seq)\n",
    "\n",
    "    # Define batch size for data loading\n",
    "    batch_size = 64\n",
    "    # Create DataLoader instances for batched data processing\n",
    "    test_loader_sim = DataLoader(test_dataset_sim, batch_size=batch_size, shuffle=False)\n",
    "    test_loader_seq = DataLoader(test_dataset_seq, batch_size=batch_size, shuffle=False)\n",
    "    \n",
    "    # Extract the filter size used in the best models from the saved state dicts\n",
    "    best_filter_size_sim = model_sim_data['conv1.weight'].shape[-1]\n",
    "    best_filter_size_seq = model_seq_data['conv1.weight'].shape[-1]\n",
    "\n",
    "    # Initialize the models with the determined best filter size and other relevant configurations\n",
    "    model_sim = SignalClassifier(input_channels=test_data_sim_a.shape[1], filter_size=best_filter_size_sim, win_len=win_len).to(device)\n",
    "    model_seq = SignalClassifierSeq(input_channels=test_data_seq_a.shape[2], filter_size=best_filter_size_seq, win_len=win_len).to(device)\n",
    "\n",
    "    # Load the saved state dicts into the respective models\n",
    "    model_sim.load_state_dict(model_sim_data)\n",
    "    model_seq.load_state_dict(model_seq_data)\n",
    "\n",
    "    # Set the models to evaluation mode\n",
    "    model_sim.eval()\n",
    "    model_seq.eval()\n",
    "\n",
    "    # Evaluate the models using the created DataLoader instances and custom evaluation function\n",
    "    metrics_sim = evaluate_model(model_sim, device, test_loader_sim, loss_function, eval_type=\"sim\")\n",
    "    metrics_seq = evaluate_model(model_seq, device, test_loader_seq, loss_function, eval_type=\"seq\")\n",
    "\n",
    "    # Compile metrics for DataFrame\n",
    "    f1_score_sim = metrics_sim['F1 Score'][0]  \n",
    "    f1_score_seq = metrics_seq['F1 Score'][0] \n",
    "    performance_reduction = (f1_score_seq - f1_score_sim)/f1_score_seq * 100 # Calculate the performance reduction\n",
    "\n",
    "    row = {\n",
    "        \"Configuration\": configuration,\n",
    "        \"Accuracy\": f\"{metrics_sim['Accuracy'][0]:.2f} ({metrics_seq['Accuracy'][0]:.2f})\",\n",
    "        \"Precision\": f\"{metrics_sim['Precision'][0]:.2f} ({metrics_seq['Precision'][0]:.2f})\",\n",
    "        \"Recall\": f\"{metrics_sim['Recall'][0]:.2f} ({metrics_seq['Recall'][0]:.2f})\",\n",
    "        \"F1-Score\": f\"{f1_score_sim:.2f} ({f1_score_seq:.2f})\",\n",
    "        \"Performance Reduction (%)\": f\"{performance_reduction:.2f}\"  # Add performance reduction to the row\n",
    "    }\n",
    "    all_metrics.append(row)\n",
    "\n",
    "    \n",
    "    torch.cuda.empty_cache()  # Clear memory between iterations\n",
    "\n",
    "# Convert collected metrics to DataFrame and display\n",
    "metrics_df = pd.DataFrame(all_metrics)\n",
    "display(metrics_df.style.hide(axis='index'))\n"
   ]
  },
  {
   "cell_type": "code",
   "execution_count": 17,
   "id": "190aca9b",
   "metadata": {},
   "outputs": [
    {
     "data": {
      "text/html": [
       "<style type=\"text/css\">\n",
       "</style>\n",
       "<table id=\"T_1ba7a\">\n",
       "  <thead>\n",
       "    <tr>\n",
       "      <th id=\"T_1ba7a_level0_col0\" class=\"col_heading level0 col0\" >Configuration</th>\n",
       "      <th id=\"T_1ba7a_level0_col1\" class=\"col_heading level0 col1\" >Accuracy</th>\n",
       "      <th id=\"T_1ba7a_level0_col2\" class=\"col_heading level0 col2\" >Precision</th>\n",
       "      <th id=\"T_1ba7a_level0_col3\" class=\"col_heading level0 col3\" >Recall</th>\n",
       "      <th id=\"T_1ba7a_level0_col4\" class=\"col_heading level0 col4\" >F1-Score</th>\n",
       "      <th id=\"T_1ba7a_level0_col5\" class=\"col_heading level0 col5\" >Performance Reduction (%)</th>\n",
       "    </tr>\n",
       "  </thead>\n",
       "  <tbody>\n",
       "    <tr>\n",
       "      <td id=\"T_1ba7a_row0_col0\" class=\"data row0 col0\" >All Sensors</td>\n",
       "      <td id=\"T_1ba7a_row0_col1\" class=\"data row0 col1\" >57.55 (98.60)</td>\n",
       "      <td id=\"T_1ba7a_row0_col2\" class=\"data row0 col2\" >59.01 (99.48)</td>\n",
       "      <td id=\"T_1ba7a_row0_col3\" class=\"data row0 col3\" >49.47 (97.70)</td>\n",
       "      <td id=\"T_1ba7a_row0_col4\" class=\"data row0 col4\" >53.82 (98.58)</td>\n",
       "      <td id=\"T_1ba7a_row0_col5\" class=\"data row0 col5\" >45.41</td>\n",
       "    </tr>\n",
       "    <tr>\n",
       "      <td id=\"T_1ba7a_row1_col0\" class=\"data row1 col0\" >No Resonant</td>\n",
       "      <td id=\"T_1ba7a_row1_col1\" class=\"data row1 col1\" >94.03 (98.85)</td>\n",
       "      <td id=\"T_1ba7a_row1_col2\" class=\"data row1 col2\" >92.78 (98.74)</td>\n",
       "      <td id=\"T_1ba7a_row1_col3\" class=\"data row1 col3\" >95.49 (98.97)</td>\n",
       "      <td id=\"T_1ba7a_row1_col4\" class=\"data row1 col4\" >94.12 (98.85)</td>\n",
       "      <td id=\"T_1ba7a_row1_col5\" class=\"data row1 col5\" >4.79</td>\n",
       "    </tr>\n",
       "    <tr>\n",
       "      <td id=\"T_1ba7a_row2_col0\" class=\"data row2 col0\" >Only Front</td>\n",
       "      <td id=\"T_1ba7a_row2_col1\" class=\"data row2 col1\" >86.89 (99.63)</td>\n",
       "      <td id=\"T_1ba7a_row2_col2\" class=\"data row2 col2\" >92.62 (99.92)</td>\n",
       "      <td id=\"T_1ba7a_row2_col3\" class=\"data row2 col3\" >80.17 (99.35)</td>\n",
       "      <td id=\"T_1ba7a_row2_col4\" class=\"data row2 col4\" >85.94 (99.63)</td>\n",
       "      <td id=\"T_1ba7a_row2_col5\" class=\"data row2 col5\" >13.74</td>\n",
       "    </tr>\n",
       "    <tr>\n",
       "      <td id=\"T_1ba7a_row3_col0\" class=\"data row3 col0\" >Only Rear</td>\n",
       "      <td id=\"T_1ba7a_row3_col1\" class=\"data row3 col1\" >95.07 (96.24)</td>\n",
       "      <td id=\"T_1ba7a_row3_col2\" class=\"data row3 col2\" >94.80 (96.03)</td>\n",
       "      <td id=\"T_1ba7a_row3_col3\" class=\"data row3 col3\" >95.38 (96.48)</td>\n",
       "      <td id=\"T_1ba7a_row3_col4\" class=\"data row3 col4\" >95.09 (96.25)</td>\n",
       "      <td id=\"T_1ba7a_row3_col5\" class=\"data row3 col5\" >1.21</td>\n",
       "    </tr>\n",
       "    <tr>\n",
       "      <td id=\"T_1ba7a_row4_col0\" class=\"data row4 col0\" >Only Resonant</td>\n",
       "      <td id=\"T_1ba7a_row4_col1\" class=\"data row4 col1\" >50.51 (52.81)</td>\n",
       "      <td id=\"T_1ba7a_row4_col2\" class=\"data row4 col2\" >50.50 (51.44)</td>\n",
       "      <td id=\"T_1ba7a_row4_col3\" class=\"data row4 col3\" >51.01 (100.00)</td>\n",
       "      <td id=\"T_1ba7a_row4_col4\" class=\"data row4 col4\" >50.76 (67.94)</td>\n",
       "      <td id=\"T_1ba7a_row4_col5\" class=\"data row4 col5\" >25.29</td>\n",
       "    </tr>\n",
       "  </tbody>\n",
       "</table>\n"
      ],
      "text/plain": [
       "<pandas.io.formats.style.Styler at 0x7fa1fc877850>"
      ]
     },
     "metadata": {},
     "output_type": "display_data"
    }
   ],
   "source": [
    "display(metrics_df.style.hide(axis='index'))\n"
   ]
  },
  {
   "cell_type": "code",
   "execution_count": null,
   "id": "d4658fa2",
   "metadata": {},
   "outputs": [],
   "source": []
  }
 ],
 "metadata": {
  "kernelspec": {
   "display_name": "Python 3 (ipykernel)",
   "language": "python",
   "name": "python3"
  },
  "language_info": {
   "codemirror_mode": {
    "name": "ipython",
    "version": 3
   },
   "file_extension": ".py",
   "mimetype": "text/x-python",
   "name": "python",
   "nbconvert_exporter": "python",
   "pygments_lexer": "ipython3",
   "version": "3.10.12"
  }
 },
 "nbformat": 4,
 "nbformat_minor": 5
}
